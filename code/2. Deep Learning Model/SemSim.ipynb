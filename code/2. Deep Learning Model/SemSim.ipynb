{
 "cells": [
  {
   "cell_type": "markdown",
   "metadata": {},
   "source": [
    "##  Semantic Similarities by analysing the derived embeddings with PCA"
   ]
  },
  {
   "cell_type": "code",
   "execution_count": 212,
   "metadata": {},
   "outputs": [
    {
     "name": "stdout",
     "output_type": "stream",
     "text": [
      "Requirement already satisfied: tabulate in /Users/fabianmahner/dlss-project24/venv/lib/python3.11/site-packages (0.9.0)\n",
      "Note: you may need to restart the kernel to use updated packages.\n"
     ]
    }
   ],
   "source": [
    "pip install tabulate"
   ]
  },
  {
   "cell_type": "code",
   "execution_count": 213,
   "metadata": {},
   "outputs": [],
   "source": [
    "import numpy as np\n",
    "from sklearn.decomposition import PCA\n",
    "import matplotlib.pyplot as plt\n",
    "import pandas as pd\n",
    "import seaborn as sns\n",
    "from sklearn.preprocessing import StandardScaler\n",
    "import matplotlib.patheffects as PathEffects\n",
    "from sklearn.metrics.pairwise import cosine_similarity\n",
    "import plotly.express as px\n",
    "from tabulate import tabulate\n",
    "\n",
    "\n",
    "df_embeddings = pd.read_csv(\"/Users/fabianmahner/dlss-project24/output/embeddings/embeddings_CBOW_total_posts.csv\")\n"
   ]
  },
  {
   "cell_type": "code",
   "execution_count": 214,
   "metadata": {},
   "outputs": [],
   "source": [
    "df_embeddings = df_embeddings.iloc[:,1:]"
   ]
  },
  {
   "cell_type": "code",
   "execution_count": 215,
   "metadata": {},
   "outputs": [
    {
     "data": {
      "text/html": [
       "<div>\n",
       "<style scoped>\n",
       "    .dataframe tbody tr th:only-of-type {\n",
       "        vertical-align: middle;\n",
       "    }\n",
       "\n",
       "    .dataframe tbody tr th {\n",
       "        vertical-align: top;\n",
       "    }\n",
       "\n",
       "    .dataframe thead th {\n",
       "        text-align: right;\n",
       "    }\n",
       "</style>\n",
       "<table border=\"1\" class=\"dataframe\">\n",
       "  <thead>\n",
       "    <tr style=\"text-align: right;\">\n",
       "      <th></th>\n",
       "      <th>word</th>\n",
       "      <th>0</th>\n",
       "      <th>1</th>\n",
       "      <th>2</th>\n",
       "      <th>3</th>\n",
       "      <th>4</th>\n",
       "      <th>5</th>\n",
       "      <th>6</th>\n",
       "      <th>7</th>\n",
       "      <th>8</th>\n",
       "      <th>...</th>\n",
       "      <th>90</th>\n",
       "      <th>91</th>\n",
       "      <th>92</th>\n",
       "      <th>93</th>\n",
       "      <th>94</th>\n",
       "      <th>95</th>\n",
       "      <th>96</th>\n",
       "      <th>97</th>\n",
       "      <th>98</th>\n",
       "      <th>99</th>\n",
       "    </tr>\n",
       "  </thead>\n",
       "  <tbody>\n",
       "    <tr>\n",
       "      <th>0</th>\n",
       "      <td>city</td>\n",
       "      <td>3.187496e-02</td>\n",
       "      <td>-1.255769e-01</td>\n",
       "      <td>-1.252872e-01</td>\n",
       "      <td>-7.430278e-02</td>\n",
       "      <td>-6.662598e-02</td>\n",
       "      <td>-1.061271e-01</td>\n",
       "      <td>8.790804e-02</td>\n",
       "      <td>-3.463078e-02</td>\n",
       "      <td>-1.090932e-01</td>\n",
       "      <td>...</td>\n",
       "      <td>8.918405e-02</td>\n",
       "      <td>-2.928032e-03</td>\n",
       "      <td>2.923920e-02</td>\n",
       "      <td>1.201511e-01</td>\n",
       "      <td>-4.159504e-03</td>\n",
       "      <td>-1.187051e-01</td>\n",
       "      <td>-8.843514e-02</td>\n",
       "      <td>1.570602e-02</td>\n",
       "      <td>-5.467511e-02</td>\n",
       "      <td>-9.079038e-02</td>\n",
       "    </tr>\n",
       "    <tr>\n",
       "      <th>1</th>\n",
       "      <td>without</td>\n",
       "      <td>6.184779e-02</td>\n",
       "      <td>-1.043726e-01</td>\n",
       "      <td>-8.448507e-02</td>\n",
       "      <td>2.080021e-01</td>\n",
       "      <td>-8.813742e-02</td>\n",
       "      <td>3.024186e-02</td>\n",
       "      <td>4.034633e-02</td>\n",
       "      <td>-8.739900e-02</td>\n",
       "      <td>4.342840e-02</td>\n",
       "      <td>...</td>\n",
       "      <td>-9.296446e-02</td>\n",
       "      <td>1.871214e-02</td>\n",
       "      <td>9.012337e-02</td>\n",
       "      <td>1.016743e-01</td>\n",
       "      <td>1.136650e-02</td>\n",
       "      <td>-9.624563e-02</td>\n",
       "      <td>5.905829e-02</td>\n",
       "      <td>5.760413e-02</td>\n",
       "      <td>9.226614e-02</td>\n",
       "      <td>-1.767980e-01</td>\n",
       "    </tr>\n",
       "    <tr>\n",
       "      <th>2</th>\n",
       "      <td>water</td>\n",
       "      <td>-5.455660e-02</td>\n",
       "      <td>-1.529249e-01</td>\n",
       "      <td>-1.626026e-01</td>\n",
       "      <td>-5.569708e-02</td>\n",
       "      <td>1.254430e-01</td>\n",
       "      <td>4.621255e-02</td>\n",
       "      <td>1.263181e-01</td>\n",
       "      <td>-1.231628e-01</td>\n",
       "      <td>-6.419506e-02</td>\n",
       "      <td>...</td>\n",
       "      <td>2.227263e-01</td>\n",
       "      <td>-7.700393e-02</td>\n",
       "      <td>-8.255928e-02</td>\n",
       "      <td>1.432757e-01</td>\n",
       "      <td>-3.375542e-02</td>\n",
       "      <td>-1.573365e-01</td>\n",
       "      <td>-1.036720e-01</td>\n",
       "      <td>1.159502e-01</td>\n",
       "      <td>-6.682982e-02</td>\n",
       "      <td>-1.246089e-01</td>\n",
       "    </tr>\n",
       "    <tr>\n",
       "      <th>3</th>\n",
       "      <td>be</td>\n",
       "      <td>1.396619e+00</td>\n",
       "      <td>-1.412009e+00</td>\n",
       "      <td>-1.445828e+00</td>\n",
       "      <td>-1.298377e-01</td>\n",
       "      <td>7.235935e-02</td>\n",
       "      <td>1.158835e-01</td>\n",
       "      <td>-7.927992e-02</td>\n",
       "      <td>1.433256e-01</td>\n",
       "      <td>4.399346e-02</td>\n",
       "      <td>...</td>\n",
       "      <td>1.399278e-01</td>\n",
       "      <td>-1.651254e-01</td>\n",
       "      <td>-1.674009e+00</td>\n",
       "      <td>1.453903e+00</td>\n",
       "      <td>1.091762e+00</td>\n",
       "      <td>-1.450030e+00</td>\n",
       "      <td>-1.242432e-01</td>\n",
       "      <td>9.707630e-01</td>\n",
       "      <td>-5.642841e-02</td>\n",
       "      <td>1.538694e-01</td>\n",
       "    </tr>\n",
       "    <tr>\n",
       "      <th>4</th>\n",
       "      <td>our</td>\n",
       "      <td>-6.786830e-02</td>\n",
       "      <td>-5.629227e-01</td>\n",
       "      <td>-5.894241e-01</td>\n",
       "      <td>1.014113e-01</td>\n",
       "      <td>-1.364908e-02</td>\n",
       "      <td>-3.954599e-01</td>\n",
       "      <td>-5.190908e-02</td>\n",
       "      <td>-4.611208e-03</td>\n",
       "      <td>-6.772427e-01</td>\n",
       "      <td>...</td>\n",
       "      <td>2.062865e-01</td>\n",
       "      <td>-7.302897e-02</td>\n",
       "      <td>5.780031e-02</td>\n",
       "      <td>5.850066e-01</td>\n",
       "      <td>2.507563e-01</td>\n",
       "      <td>-5.819518e-01</td>\n",
       "      <td>9.253128e-02</td>\n",
       "      <td>1.647053e-01</td>\n",
       "      <td>-5.934814e-02</td>\n",
       "      <td>-2.588651e-01</td>\n",
       "    </tr>\n",
       "    <tr>\n",
       "      <th>...</th>\n",
       "      <td>...</td>\n",
       "      <td>...</td>\n",
       "      <td>...</td>\n",
       "      <td>...</td>\n",
       "      <td>...</td>\n",
       "      <td>...</td>\n",
       "      <td>...</td>\n",
       "      <td>...</td>\n",
       "      <td>...</td>\n",
       "      <td>...</td>\n",
       "      <td>...</td>\n",
       "      <td>...</td>\n",
       "      <td>...</td>\n",
       "      <td>...</td>\n",
       "      <td>...</td>\n",
       "      <td>...</td>\n",
       "      <td>...</td>\n",
       "      <td>...</td>\n",
       "      <td>...</td>\n",
       "      <td>...</td>\n",
       "      <td>...</td>\n",
       "    </tr>\n",
       "    <tr>\n",
       "      <th>9985</th>\n",
       "      <td>colab</td>\n",
       "      <td>1.104704e-24</td>\n",
       "      <td>1.522647e-04</td>\n",
       "      <td>2.045534e-05</td>\n",
       "      <td>-8.925561e-03</td>\n",
       "      <td>-4.053197e-03</td>\n",
       "      <td>1.232454e-02</td>\n",
       "      <td>1.251300e-02</td>\n",
       "      <td>1.647083e-02</td>\n",
       "      <td>-4.748537e-03</td>\n",
       "      <td>...</td>\n",
       "      <td>-4.788051e-03</td>\n",
       "      <td>1.097929e-07</td>\n",
       "      <td>-4.185686e-03</td>\n",
       "      <td>-4.315797e-05</td>\n",
       "      <td>1.036578e-02</td>\n",
       "      <td>-7.689097e-05</td>\n",
       "      <td>4.621899e-04</td>\n",
       "      <td>3.194762e-03</td>\n",
       "      <td>2.176613e-03</td>\n",
       "      <td>-8.515752e-08</td>\n",
       "    </tr>\n",
       "    <tr>\n",
       "      <th>9986</th>\n",
       "      <td>ladybird</td>\n",
       "      <td>-1.064568e-03</td>\n",
       "      <td>1.792277e-03</td>\n",
       "      <td>3.295426e-04</td>\n",
       "      <td>1.810920e-03</td>\n",
       "      <td>2.044498e-02</td>\n",
       "      <td>-8.877015e-03</td>\n",
       "      <td>-1.381670e-02</td>\n",
       "      <td>2.591648e-02</td>\n",
       "      <td>8.971050e-03</td>\n",
       "      <td>...</td>\n",
       "      <td>-3.143129e-02</td>\n",
       "      <td>1.614905e-02</td>\n",
       "      <td>-1.264274e-04</td>\n",
       "      <td>5.123698e-03</td>\n",
       "      <td>-3.284769e-03</td>\n",
       "      <td>5.571940e-03</td>\n",
       "      <td>-1.820427e-02</td>\n",
       "      <td>6.235522e-10</td>\n",
       "      <td>3.448384e-02</td>\n",
       "      <td>1.250696e-02</td>\n",
       "    </tr>\n",
       "    <tr>\n",
       "      <th>9987</th>\n",
       "      <td>populartopic</td>\n",
       "      <td>-1.182782e-02</td>\n",
       "      <td>-6.860299e-03</td>\n",
       "      <td>-1.335546e-03</td>\n",
       "      <td>1.470874e-02</td>\n",
       "      <td>-2.362208e-03</td>\n",
       "      <td>-1.408758e-04</td>\n",
       "      <td>-1.450989e-02</td>\n",
       "      <td>1.118288e-02</td>\n",
       "      <td>-3.995135e-03</td>\n",
       "      <td>...</td>\n",
       "      <td>5.837749e-03</td>\n",
       "      <td>-2.792721e-06</td>\n",
       "      <td>4.580304e-03</td>\n",
       "      <td>6.802011e-03</td>\n",
       "      <td>1.126047e-03</td>\n",
       "      <td>-6.178364e-03</td>\n",
       "      <td>-1.096115e-02</td>\n",
       "      <td>1.235175e-02</td>\n",
       "      <td>-4.304812e-03</td>\n",
       "      <td>4.572632e-03</td>\n",
       "    </tr>\n",
       "    <tr>\n",
       "      <th>9988</th>\n",
       "      <td>druish</td>\n",
       "      <td>-4.518600e-41</td>\n",
       "      <td>4.453500e-41</td>\n",
       "      <td>-4.609300e-41</td>\n",
       "      <td>4.655800e-41</td>\n",
       "      <td>-4.545500e-41</td>\n",
       "      <td>-4.540500e-41</td>\n",
       "      <td>4.493700e-41</td>\n",
       "      <td>1.398430e-40</td>\n",
       "      <td>-4.461000e-41</td>\n",
       "      <td>...</td>\n",
       "      <td>-4.516500e-41</td>\n",
       "      <td>4.491900e-41</td>\n",
       "      <td>-4.502200e-41</td>\n",
       "      <td>4.455700e-41</td>\n",
       "      <td>4.931400e-41</td>\n",
       "      <td>4.482900e-41</td>\n",
       "      <td>-4.479300e-41</td>\n",
       "      <td>-4.470400e-41</td>\n",
       "      <td>-4.479400e-41</td>\n",
       "      <td>-5.547500e-41</td>\n",
       "    </tr>\n",
       "    <tr>\n",
       "      <th>9989</th>\n",
       "      <td>jasznewscuration</td>\n",
       "      <td>-9.473209e-04</td>\n",
       "      <td>-2.421363e-03</td>\n",
       "      <td>1.953769e-03</td>\n",
       "      <td>-1.360984e-02</td>\n",
       "      <td>4.088665e-03</td>\n",
       "      <td>3.119648e-03</td>\n",
       "      <td>2.718936e-02</td>\n",
       "      <td>-1.356212e-03</td>\n",
       "      <td>-2.532796e-02</td>\n",
       "      <td>...</td>\n",
       "      <td>-1.614017e-02</td>\n",
       "      <td>6.125411e-03</td>\n",
       "      <td>-3.297027e-03</td>\n",
       "      <td>6.561703e-05</td>\n",
       "      <td>-2.178068e-11</td>\n",
       "      <td>2.045391e-03</td>\n",
       "      <td>-1.482383e-02</td>\n",
       "      <td>5.982457e-03</td>\n",
       "      <td>-2.873470e-02</td>\n",
       "      <td>-7.329806e-03</td>\n",
       "    </tr>\n",
       "  </tbody>\n",
       "</table>\n",
       "<p>9990 rows × 101 columns</p>\n",
       "</div>"
      ],
      "text/plain": [
       "                  word             0             1             2  \\\n",
       "0                 city  3.187496e-02 -1.255769e-01 -1.252872e-01   \n",
       "1              without  6.184779e-02 -1.043726e-01 -8.448507e-02   \n",
       "2                water -5.455660e-02 -1.529249e-01 -1.626026e-01   \n",
       "3                   be  1.396619e+00 -1.412009e+00 -1.445828e+00   \n",
       "4                  our -6.786830e-02 -5.629227e-01 -5.894241e-01   \n",
       "...                ...           ...           ...           ...   \n",
       "9985             colab  1.104704e-24  1.522647e-04  2.045534e-05   \n",
       "9986          ladybird -1.064568e-03  1.792277e-03  3.295426e-04   \n",
       "9987      populartopic -1.182782e-02 -6.860299e-03 -1.335546e-03   \n",
       "9988            druish -4.518600e-41  4.453500e-41 -4.609300e-41   \n",
       "9989  jasznewscuration -9.473209e-04 -2.421363e-03  1.953769e-03   \n",
       "\n",
       "                 3             4             5             6             7  \\\n",
       "0    -7.430278e-02 -6.662598e-02 -1.061271e-01  8.790804e-02 -3.463078e-02   \n",
       "1     2.080021e-01 -8.813742e-02  3.024186e-02  4.034633e-02 -8.739900e-02   \n",
       "2    -5.569708e-02  1.254430e-01  4.621255e-02  1.263181e-01 -1.231628e-01   \n",
       "3    -1.298377e-01  7.235935e-02  1.158835e-01 -7.927992e-02  1.433256e-01   \n",
       "4     1.014113e-01 -1.364908e-02 -3.954599e-01 -5.190908e-02 -4.611208e-03   \n",
       "...            ...           ...           ...           ...           ...   \n",
       "9985 -8.925561e-03 -4.053197e-03  1.232454e-02  1.251300e-02  1.647083e-02   \n",
       "9986  1.810920e-03  2.044498e-02 -8.877015e-03 -1.381670e-02  2.591648e-02   \n",
       "9987  1.470874e-02 -2.362208e-03 -1.408758e-04 -1.450989e-02  1.118288e-02   \n",
       "9988  4.655800e-41 -4.545500e-41 -4.540500e-41  4.493700e-41  1.398430e-40   \n",
       "9989 -1.360984e-02  4.088665e-03  3.119648e-03  2.718936e-02 -1.356212e-03   \n",
       "\n",
       "                 8  ...            90            91            92  \\\n",
       "0    -1.090932e-01  ...  8.918405e-02 -2.928032e-03  2.923920e-02   \n",
       "1     4.342840e-02  ... -9.296446e-02  1.871214e-02  9.012337e-02   \n",
       "2    -6.419506e-02  ...  2.227263e-01 -7.700393e-02 -8.255928e-02   \n",
       "3     4.399346e-02  ...  1.399278e-01 -1.651254e-01 -1.674009e+00   \n",
       "4    -6.772427e-01  ...  2.062865e-01 -7.302897e-02  5.780031e-02   \n",
       "...            ...  ...           ...           ...           ...   \n",
       "9985 -4.748537e-03  ... -4.788051e-03  1.097929e-07 -4.185686e-03   \n",
       "9986  8.971050e-03  ... -3.143129e-02  1.614905e-02 -1.264274e-04   \n",
       "9987 -3.995135e-03  ...  5.837749e-03 -2.792721e-06  4.580304e-03   \n",
       "9988 -4.461000e-41  ... -4.516500e-41  4.491900e-41 -4.502200e-41   \n",
       "9989 -2.532796e-02  ... -1.614017e-02  6.125411e-03 -3.297027e-03   \n",
       "\n",
       "                93            94            95            96            97  \\\n",
       "0     1.201511e-01 -4.159504e-03 -1.187051e-01 -8.843514e-02  1.570602e-02   \n",
       "1     1.016743e-01  1.136650e-02 -9.624563e-02  5.905829e-02  5.760413e-02   \n",
       "2     1.432757e-01 -3.375542e-02 -1.573365e-01 -1.036720e-01  1.159502e-01   \n",
       "3     1.453903e+00  1.091762e+00 -1.450030e+00 -1.242432e-01  9.707630e-01   \n",
       "4     5.850066e-01  2.507563e-01 -5.819518e-01  9.253128e-02  1.647053e-01   \n",
       "...            ...           ...           ...           ...           ...   \n",
       "9985 -4.315797e-05  1.036578e-02 -7.689097e-05  4.621899e-04  3.194762e-03   \n",
       "9986  5.123698e-03 -3.284769e-03  5.571940e-03 -1.820427e-02  6.235522e-10   \n",
       "9987  6.802011e-03  1.126047e-03 -6.178364e-03 -1.096115e-02  1.235175e-02   \n",
       "9988  4.455700e-41  4.931400e-41  4.482900e-41 -4.479300e-41 -4.470400e-41   \n",
       "9989  6.561703e-05 -2.178068e-11  2.045391e-03 -1.482383e-02  5.982457e-03   \n",
       "\n",
       "                98            99  \n",
       "0    -5.467511e-02 -9.079038e-02  \n",
       "1     9.226614e-02 -1.767980e-01  \n",
       "2    -6.682982e-02 -1.246089e-01  \n",
       "3    -5.642841e-02  1.538694e-01  \n",
       "4    -5.934814e-02 -2.588651e-01  \n",
       "...            ...           ...  \n",
       "9985  2.176613e-03 -8.515752e-08  \n",
       "9986  3.448384e-02  1.250696e-02  \n",
       "9987 -4.304812e-03  4.572632e-03  \n",
       "9988 -4.479400e-41 -5.547500e-41  \n",
       "9989 -2.873470e-02 -7.329806e-03  \n",
       "\n",
       "[9990 rows x 101 columns]"
      ]
     },
     "execution_count": 215,
     "metadata": {},
     "output_type": "execute_result"
    }
   ],
   "source": [
    "df_embeddings"
   ]
  },
  {
   "cell_type": "markdown",
   "metadata": {},
   "source": [
    "## First PCA"
   ]
  },
  {
   "cell_type": "code",
   "execution_count": 216,
   "metadata": {},
   "outputs": [],
   "source": [
    "# Drop the non-numerical 'word' column\n",
    "X = df_embeddings.drop(columns=['word'])\n",
    "# Standardize the data\n",
    "X_standardized = StandardScaler().fit_transform(X)"
   ]
  },
  {
   "cell_type": "code",
   "execution_count": 217,
   "metadata": {},
   "outputs": [
    {
     "data": {
      "image/png": "[encoded data removed]",
      "text/plain": [
       "<Figure size 1200x800 with 1 Axes>"
      ]
     },
     "metadata": {},
     "output_type": "display_data"
    }
   ],
   "source": [
    "# Perform PCA to reduce to 2 components\n",
    "pca = PCA(n_components=2)\n",
    "principal_components = pca.fit_transform(X_standardized)\n",
    "\n",
    "# Create a DataFrame with the PCA results\n",
    "pca_df = pd.DataFrame(data=principal_components, columns=['PC1', 'PC2'])\n",
    "\n",
    "# Add the 'word' column back for labeling\n",
    "pca_df['word'] = df_embeddings['word']\n",
    "\n",
    "# Specifying the words to highlight\n",
    "\n",
    "climate_change_terms = [\n",
    "    \"globalwarming\",\n",
    "    \"greenhouse\",\n",
    "    \"carbon\",\n",
    "    \"fossil\",\n",
    "    \"renewable\",\n",
    "    \"deforestation\",\n",
    "    \"sustainability\",\n",
    "    \"ecosystem\",\n",
    "    \"sea\",\n",
    "    \"neutral\",\n",
    "    \"biodiversity\",\n",
    "    \"mitigation\",\n",
    "    \"environmental\",\n",
    "    \"pollution\",\n",
    "    \"refugees\",\n",
    "    \"reforestation\",\n",
    "    \"technology\",\n",
    "    \"ozone\",\n",
    "    \"acid\",\n",
    "    \"modeling\",\n",
    "    \"degradation\",\n",
    "    \"heatwave\",\n",
    "    \"desertification\"\n",
    "]\n",
    "\n",
    "\n",
    "# Filter the DataFrame to include only the selected words\n",
    "climate_df = pca_df[pca_df['word'].isin(climate_change_terms)]\n",
    "\n",
    "# Plotting the PCA results\n",
    "plt.figure(figsize=(12, 8))\n",
    "sns.scatterplot(x='PC1', y='PC2', data=pca_df, color='gray', alpha=0.5)\n",
    "\n",
    "# Highlight the selected words in a different color\n",
    "sns.scatterplot(x='PC1', y='PC2', data=climate_df, color='red')\n",
    "\n",
    "\n",
    "# Annotate the points with the selected word labels with improved styling\n",
    "for i in range(climate_df.shape[0]):\n",
    "    txt = plt.text(x=climate_df.PC1.iloc[i], y=climate_df.PC2.iloc[i], s=climate_df.word.iloc[i], \n",
    "                   fontdict=dict(color='black', size=12, weight='roman'))\n",
    "    \n",
    "    txt.set_path_effects([PathEffects.withStroke(linewidth=1, foreground='white')])\n",
    "\n",
    "plt.xlim(-10,30)  # Example limits for PC1\n",
    "plt.ylim(-40, 30)  # Example limits for PC2\n",
    "plt.title('PCA of Word Embeddings with Selected Words Highlighted')\n",
    "plt.xlabel('Principal Component 1')\n",
    "plt.ylabel('Principal Component 2')\n",
    "plt.show()\n"
   ]
  },
  {
   "cell_type": "code",
   "execution_count": 218,
   "metadata": {},
   "outputs": [
    {
     "name": "stdout",
     "output_type": "stream",
     "text": [
      "The five closest words to the result of the arithmetic operation are:\n",
      "wildfire\n",
      "deal\n",
      "own\n",
      "tax\n",
      "city\n"
     ]
    }
   ],
   "source": [
    "# Calculate the cosine similarity between the vectors for 'water' and 'flood'\n",
    "# Extract vectors for the words\n",
    "vector_water = pca_df[pca_df['word'] == 'water'][['PC1', 'PC2']].values[0]\n",
    "vector_flood = pca_df[pca_df['word'] == 'flood'][['PC1', 'PC2']].values[0]\n",
    "vector_heat = pca_df[pca_df['word'] == 'heat'][['PC1', 'PC2']].values[0]\n",
    "\n",
    "# Perform the arithmetic: renewable - fossil + energy\n",
    "result_vector = vector_flood - vector_water + vector_heat\n",
    "\n",
    "# Calculate the distances between the result_vector and all other vectors\n",
    "distances = np.linalg.norm(pca_df[['PC1', 'PC2']].values - result_vector, axis=1)\n",
    "\n",
    "# Find the indices of the five closest vectors\n",
    "closest_word_indices = np.argsort(distances)[:5]\n",
    "\n",
    "# Retrieve the corresponding words\n",
    "closest_words = pca_df.iloc[closest_word_indices]['word'].values\n",
    "\n",
    "print(\"The five closest words to the result of the arithmetic operation are:\")\n",
    "for word in closest_words:\n",
    "    print(word)\n"
   ]
  },
  {
   "cell_type": "code",
   "execution_count": 219,
   "metadata": {},
   "outputs": [
    {
     "data": {
      "image/png": "[encoded data removed]",
      "text/plain": [
       "<Figure size 1200x800 with 1 Axes>"
      ]
     },
     "metadata": {},
     "output_type": "display_data"
    }
   ],
   "source": [
    "closest_words = pca_df.iloc[closest_word_indices].copy()\n",
    "\n",
    "# Plotting the PCA results\n",
    "plt.figure(figsize=(12, 8))\n",
    "sns.scatterplot(x='PC1', y='PC2', data=pca_df, color='gray', alpha=0.5)\n",
    "\n",
    "# Highlight the closest words in blue\n",
    "sns.scatterplot(x='PC1', y='PC2', data=closest_words, color='blue', marker='o', s=100)\n",
    "\n",
    "\n",
    "\n",
    "# Draw arrows representing the vector arithmetic\n",
    "plt.arrow(vector_water[0], vector_water[1], vector_flood[0] - vector_water[0], vector_flood[1] - vector_water[1], \n",
    "          color='red', width=0.02, head_width=0.1, head_length=0.1, label='flood - water')\n",
    "plt.arrow(vector_flood[0], vector_flood[1], vector_heat[0] - vector_flood[0], vector_heat[1] - vector_flood[1], \n",
    "          color='red', width=0.02, head_width=0.1, head_length=0.1, label='flood + heat')\n",
    "plt.arrow(vector_heat[0], vector_heat[1], result_vector[0] - vector_heat[0], result_vector[1] - vector_heat[1], \n",
    "          color='red', width=0.02, head_width=0.1, head_length=0.1)\n",
    "\n",
    "# Annotate the resulting vector\n",
    "\n",
    "for i in range(closest_words.shape[0]):\n",
    "    plt.text(closest_words.PC1.iloc[i], closest_words.PC2.iloc[i], closest_words.word.iloc[i], \n",
    "             fontdict=dict(color='blue', size=8, weight='bold'),\n",
    "             path_effects=[PathEffects.withStroke(linewidth=2, foreground='white')])\n",
    "# Highlight the words involved in the arithmetic in green\n",
    "arithmetic_words_df = pca_df[pca_df['word'].isin(['water', 'flood', 'heat'])]\n",
    "sns.scatterplot(x='PC1', y='PC2', data=arithmetic_words_df, color='green', marker='o', s=150)\n",
    "# Annotate the words involved in the arithmetic operation\n",
    "for i in range(arithmetic_words_df.shape[0]):\n",
    "    txt = plt.text(x=arithmetic_words_df.PC1.iloc[i], y=arithmetic_words_df.PC2.iloc[i], s=arithmetic_words_df.word.iloc[i], \n",
    "                   fontdict=dict(color='black', size=10, weight='bold'))\n",
    "    txt.set_path_effects([PathEffects.withStroke(linewidth=1, foreground='white')])\n",
    "\n",
    "\n",
    "\n",
    "plt.xlim(4, 10)  # Example limits for PC1\n",
    "plt.ylim(2, 12)  # Example limits for PC2\n",
    "plt.title('PCA of Word Embeddings with Selected and Closest Words Highlighted')\n",
    "plt.xlabel('Principal Component 1')\n",
    "plt.ylabel('Principal Component 2')\n",
    "plt.show()"
   ]
  },
  {
   "cell_type": "markdown",
   "metadata": {},
   "source": [
    "# Code"
   ]
  },
  {
   "cell_type": "code",
   "execution_count": 220,
   "metadata": {},
   "outputs": [
    {
     "data": {
      "image/png": "[encoded data removed]",
      "text/plain": [
       "<Figure size 1000x700 with 1 Axes>"
      ]
     },
     "metadata": {},
     "output_type": "display_data"
    }
   ],
   "source": [
    "# List of words you want to visualize\n",
    "words_to_visualize = ['carbon', 'sustainability', 'emission', \"heatwave\", \"hurricane\",\n",
    "                      \"drought\", \"flood\", \n",
    "                      \"trump\", \"greta\", \"wind\", \"solar\", \"coal\", \"oil\", \"gas\"]\n",
    "\n",
    "# Filter the dataframe for those words\n",
    "df_filtered = df_embeddings[df_embeddings['word'].isin(words_to_visualize)]\n",
    "\n",
    "# Extract the features for PCA\n",
    "X = df_filtered.drop(columns=['word'])\n",
    "\n",
    "# Apply PCA to reduce dimensions to 2\n",
    "pca = PCA(n_components=2)\n",
    "X_pca = pca.fit_transform(X)\n",
    "\n",
    "# Create a DataFrame for the PCA results\n",
    "pca_df = pd.DataFrame(X_pca, columns=['PC1', 'PC2'])\n",
    "pca_df['word'] = df_filtered['word'].values\n",
    "\n",
    "# Plot the results\n",
    "plt.figure(figsize=(10, 7))\n",
    "for i, word in enumerate(pca_df['word']):\n",
    "    plt.scatter(pca_df['PC1'].iloc[i], pca_df['PC2'].iloc[i], label=word)\n",
    "    plt.text(pca_df['PC1'].iloc[i] + 0.01, pca_df['PC2'].iloc[i] + 0.01, word, fontsize=10)\n",
    "\n",
    "plt.title('PCA Visualization of Word Embeddings')\n",
    "plt.xlabel('Principal Component 1')\n",
    "plt.ylabel('Principal Component 2')\n",
    "plt.legend()\n",
    "plt.grid(True)\n",
    "plt.show()"
   ]
  },
  {
   "cell_type": "markdown",
   "metadata": {},
   "source": [
    "## Cosine similarity"
   ]
  },
  {
   "cell_type": "code",
   "execution_count": 221,
   "metadata": {},
   "outputs": [
    {
     "name": "stdout",
     "output_type": "stream",
     "text": [
      "|    | Term           | Similar Word   |   Similarity |\n",
      "|---:|:---------------|:---------------|-------------:|\n",
      "|  0 | sustainability | conflict       |       0.7746 |\n",
      "|  1 | sustainability | education      |       0.7416 |\n",
      "|  2 | sustainability | biodiversity   |       0.7322 |\n",
      "|  3 | xi             | jinping        |       0.6855 |\n",
      "|  4 | xi             | prince         |       0.6466 |\n",
      "|  5 | xi             | attenborough   |       0.5874 |\n",
      "|  6 | greta          | activist       |       0.911  |\n",
      "|  7 | greta          | spar           |       0.7936 |\n",
      "|  8 | greta          | thunberg       |       0.7605 |\n",
      "|  9 | donald         | president      |       0.7803 |\n",
      "| 10 | donald         | trump          |       0.6852 |\n",
      "| 11 | donald         | barack         |       0.68   |\n",
      "| 12 | emission       | gas            |       0.9381 |\n",
      "| 13 | emission       | carbon         |       0.934  |\n",
      "| 14 | emission       | dioxide        |       0.9101 |\n",
      "| 15 | carbon         | emission       |       0.934  |\n",
      "| 16 | carbon         | greenhouse     |       0.887  |\n",
      "| 17 | carbon         | gas            |       0.8825 |\n",
      "| 18 | climate        | environmental  |       0.7957 |\n",
      "| 19 | climate        | drastic        |       0.5879 |\n",
      "| 20 | climate        | protester      |       0.5725 |\n",
      "| 21 | greenhouse     | emission       |       0.904  |\n",
      "| 22 | greenhouse     | carbon         |       0.887  |\n",
      "| 23 | greenhouse     | gas            |       0.8719 |\n"
     ]
    }
   ],
   "source": [
    "# Function to find the most similar words to a given word\n",
    "def find_similar_words(word, word_embeddings, top_n=10):\n",
    "    word_vector = word_embeddings.loc[word].values.reshape(1, -1)\n",
    "    similarities = cosine_similarity(word_vector, word_embeddings)\n",
    "    similarities = similarities.flatten()\n",
    "    most_similar_indices = np.argsort(similarities)[::-1][1:top_n+1]\n",
    "    similar_words = word_embeddings.index[most_similar_indices]\n",
    "    return similar_words, similarities[most_similar_indices]\n",
    "\n",
    "# Filter word embeddings to include only the relevant words\n",
    "climate_terms = [\"sustainability\", \"xi\", \"greta\",\"donald\",  \"emission\", \"carbon\", \"climate\", \"greenhouse\"]\n",
    "\n",
    "similar_words_dict = {}\n",
    "for term in climate_terms:\n",
    "    similar_words, similarities = find_similar_words(term, df_embeddings.set_index('word'), top_n=3)\n",
    "    similar_words_dict[term] = list(zip(similar_words, similarities))\n",
    "\n",
    "# Create a DataFrame to hold the results\n",
    "results = []\n",
    "for term, similar_words in similar_words_dict.items():\n",
    "    for word, similarity in similar_words:\n",
    "        results.append([term, word, f\"{similarity:.4f}\"])\n",
    "\n",
    "# Convert results to DataFrame\n",
    "df_results = pd.DataFrame(results, columns=['Term', 'Similar Word', 'Similarity'])\n",
    "\n",
    "# Display the table using tabulate for better formatting\n",
    "print(tabulate(df_results, headers='keys', tablefmt='pipe'))"
   ]
  },
  {
   "cell_type": "code",
   "execution_count": 222,
   "metadata": {},
   "outputs": [
    {
     "name": "stdout",
     "output_type": "stream",
     "text": [
      "Cosine similarity between 'emission' and 'carbon': 0.9339666677413528\n"
     ]
    }
   ],
   "source": [
    "def cosine_similarity_between_words(word1, word2, word_embeddings):\n",
    "    # Get the embeddings for the two words\n",
    "    try:\n",
    "        vector1 = word_embeddings.loc[word1].values.reshape(1, -1)\n",
    "        vector2 = word_embeddings.loc[word2].values.reshape(1, -1)\n",
    "    except KeyError as e:\n",
    "        print(f\"Error: {e}\")\n",
    "        return None\n",
    "    \n",
    "    # Check if the vectors are identical (which would yield a similarity of 1.0)\n",
    "    if np.array_equal(vector1, vector2):\n",
    "        print(f\"Warning: The vectors for '{word1}' and '{word2}' are identical.\")\n",
    "    \n",
    "    # Compute the cosine similarity\n",
    "    similarity = cosine_similarity(vector1, vector2)\n",
    "    \n",
    "    return similarity[0][0]\n",
    "\n",
    "# Example usage:\n",
    "word1 = \"emission\"\n",
    "word2 = \"carbon\"\n",
    "\n",
    "# Assuming df_embeddings is a DataFrame with words as the index and embeddings as the columns\n",
    "similarity = cosine_similarity_between_words(word1, word2, df_embeddings.set_index('word'))\n",
    "\n",
    "print(f\"Cosine similarity between '{word1}' and '{word2}': {similarity}\")\n",
    "\n"
   ]
  },
  {
   "cell_type": "code",
   "execution_count": 223,
   "metadata": {},
   "outputs": [
    {
     "data": {
      "application/vnd.plotly.v1+json": {
       "config": {
        "plotlyServerURL": "https://plot.ly"
       },
       "data": [
        {
         "hovertemplate": "PC1=%{x}<br>PC2=%{y}<br>PC3=%{z}<br>word=%{text}<extra></extra>",
         "legendgroup": "",
         "marker": {
          "color": "#636efa",
          "size": 8,
          "symbol": "circle"
         },
         "mode": "markers+text",
         "name": "",
         "scene": "scene",
         "showlegend": false,
         "text": [
          "drought",
          "carbon",
          "flood",
          "hurricane",
          "greta",
          "gas",
          "emission",
          "heatwave",
          "solar",
          "sustainability",
          "wind",
          "oil",
          "coal",
          "trump"
         ],
         "textposition": "top center",
         "type": "scatter3d",
         "x": [
          0.06364277138758775,
          -1.6605535864262588,
          0.18192097236115645,
          0.31099232036950986,
          3.20072675397728,
          -2.1761789454158444,
          -2.184013607714684,
          0.2761097575183861,
          0.16810162194808229,
          0.42203535415639987,
          0.15610679117366064,
          -0.559941061402087,
          -0.05922014966970111,
          1.8602710077365179
         ],
         "y": [
          -0.7065096588173705,
          0.5366438729749772,
          -0.5902010887769511,
          -0.6133421382657808,
          1.4270736056303799,
          0.923055469399767,
          0.9843487151922463,
          -0.7126759321753572,
          -0.6321755588703419,
          -0.7513416372286168,
          -0.7058162337144225,
          0.19168380591605783,
          -0.23701959525675198,
          0.8862763739921639
         ],
         "z": [
          -0.116910985488722,
          0.26986455715471797,
          -0.0061775022052442344,
          0.04539990910235768,
          -0.9640723098467756,
          -0.4135331425641717,
          0.012565834095928515,
          -0.09377488447449733,
          -0.02292912514059671,
          -0.07822583904413526,
          -0.12560562434846442,
          0.017980939557796508,
          -0.0018665987738672937,
          1.4772847719756745
         ]
        }
       ],
       "layout": {
        "legend": {
         "tracegroupgap": 0
        },
        "margin": {
         "b": 0,
         "l": 0,
         "r": 0,
         "t": 40
        },
        "scene": {
         "domain": {
          "x": [
           0,
           1
          ],
          "y": [
           0,
           1
          ]
         },
         "xaxis": {
          "title": {
           "text": "Principal Component 1"
          }
         },
         "yaxis": {
          "title": {
           "text": "Principal Component 2"
          }
         },
         "zaxis": {
          "title": {
           "text": "Principal Component 3"
          }
         }
        },
        "template": {
         "data": {
          "bar": [
           {
            "error_x": {
             "color": "#2a3f5f"
            },
            "error_y": {
             "color": "#2a3f5f"
            },
            "marker": {
             "line": {
              "color": "#E5ECF6",
              "width": 0.5
             },
             "pattern": {
              "fillmode": "overlay",
              "size": 10,
              "solidity": 0.2
             }
            },
            "type": "bar"
           }
          ],
          "barpolar": [
           {
            "marker": {
             "line": {
              "color": "#E5ECF6",
              "width": 0.5
             },
             "pattern": {
              "fillmode": "overlay",
              "size": 10,
              "solidity": 0.2
             }
            },
            "type": "barpolar"
           }
          ],
          "carpet": [
           {
            "aaxis": {
             "endlinecolor": "#2a3f5f",
             "gridcolor": "white",
             "linecolor": "white",
             "minorgridcolor": "white",
             "startlinecolor": "#2a3f5f"
            },
            "baxis": {
             "endlinecolor": "#2a3f5f",
             "gridcolor": "white",
             "linecolor": "white",
             "minorgridcolor": "white",
             "startlinecolor": "#2a3f5f"
            },
            "type": "carpet"
           }
          ],
          "choropleth": [
           {
            "colorbar": {
             "outlinewidth": 0,
             "ticks": ""
            },
            "type": "choropleth"
           }
          ],
          "contour": [
           {
            "colorbar": {
             "outlinewidth": 0,
             "ticks": ""
            },
            "colorscale": [
             [
              0,
              "#0d0887"
             ],
             [
              0.1111111111111111,
              "#46039f"
             ],
             [
              0.2222222222222222,
              "#7201a8"
             ],
             [
              0.3333333333333333,
              "#9c179e"
             ],
             [
              0.4444444444444444,
              "#bd3786"
             ],
             [
              0.5555555555555556,
              "#d8576b"
             ],
             [
              0.6666666666666666,
              "#ed7953"
             ],
             [
              0.7777777777777778,
              "#fb9f3a"
             ],
             [
              0.8888888888888888,
              "#fdca26"
             ],
             [
              1,
              "#f0f921"
             ]
            ],
            "type": "contour"
           }
          ],
          "contourcarpet": [
           {
            "colorbar": {
             "outlinewidth": 0,
             "ticks": ""
            },
            "type": "contourcarpet"
           }
          ],
          "heatmap": [
           {
            "colorbar": {
             "outlinewidth": 0,
             "ticks": ""
            },
            "colorscale": [
             [
              0,
              "#0d0887"
             ],
             [
              0.1111111111111111,
              "#46039f"
             ],
             [
              0.2222222222222222,
              "#7201a8"
             ],
             [
              0.3333333333333333,
              "#9c179e"
             ],
             [
              0.4444444444444444,
              "#bd3786"
             ],
             [
              0.5555555555555556,
              "#d8576b"
             ],
             [
              0.6666666666666666,
              "#ed7953"
             ],
             [
              0.7777777777777778,
              "#fb9f3a"
             ],
             [
              0.8888888888888888,
              "#fdca26"
             ],
             [
              1,
              "#f0f921"
             ]
            ],
            "type": "heatmap"
           }
          ],
          "heatmapgl": [
           {
            "colorbar": {
             "outlinewidth": 0,
             "ticks": ""
            },
            "colorscale": [
             [
              0,
              "#0d0887"
             ],
             [
              0.1111111111111111,
              "#46039f"
             ],
             [
              0.2222222222222222,
              "#7201a8"
             ],
             [
              0.3333333333333333,
              "#9c179e"
             ],
             [
              0.4444444444444444,
              "#bd3786"
             ],
             [
              0.5555555555555556,
              "#d8576b"
             ],
             [
              0.6666666666666666,
              "#ed7953"
             ],
             [
              0.7777777777777778,
              "#fb9f3a"
             ],
             [
              0.8888888888888888,
              "#fdca26"
             ],
             [
              1,
              "#f0f921"
             ]
            ],
            "type": "heatmapgl"
           }
          ],
          "histogram": [
           {
            "marker": {
             "pattern": {
              "fillmode": "overlay",
              "size": 10,
              "solidity": 0.2
             }
            },
            "type": "histogram"
           }
          ],
          "histogram2d": [
           {
            "colorbar": {
             "outlinewidth": 0,
             "ticks": ""
            },
            "colorscale": [
             [
              0,
              "#0d0887"
             ],
             [
              0.1111111111111111,
              "#46039f"
             ],
             [
              0.2222222222222222,
              "#7201a8"
             ],
             [
              0.3333333333333333,
              "#9c179e"
             ],
             [
              0.4444444444444444,
              "#bd3786"
             ],
             [
              0.5555555555555556,
              "#d8576b"
             ],
             [
              0.6666666666666666,
              "#ed7953"
             ],
             [
              0.7777777777777778,
              "#fb9f3a"
             ],
             [
              0.8888888888888888,
              "#fdca26"
             ],
             [
              1,
              "#f0f921"
             ]
            ],
            "type": "histogram2d"
           }
          ],
          "histogram2dcontour": [
           {
            "colorbar": {
             "outlinewidth": 0,
             "ticks": ""
            },
            "colorscale": [
             [
              0,
              "#0d0887"
             ],
             [
              0.1111111111111111,
              "#46039f"
             ],
             [
              0.2222222222222222,
              "#7201a8"
             ],
             [
              0.3333333333333333,
              "#9c179e"
             ],
             [
              0.4444444444444444,
              "#bd3786"
             ],
             [
              0.5555555555555556,
              "#d8576b"
             ],
             [
              0.6666666666666666,
              "#ed7953"
             ],
             [
              0.7777777777777778,
              "#fb9f3a"
             ],
             [
              0.8888888888888888,
              "#fdca26"
             ],
             [
              1,
              "#f0f921"
             ]
            ],
            "type": "histogram2dcontour"
           }
          ],
          "mesh3d": [
           {
            "colorbar": {
             "outlinewidth": 0,
             "ticks": ""
            },
            "type": "mesh3d"
           }
          ],
          "parcoords": [
           {
            "line": {
             "colorbar": {
              "outlinewidth": 0,
              "ticks": ""
             }
            },
            "type": "parcoords"
           }
          ],
          "pie": [
           {
            "automargin": true,
            "type": "pie"
           }
          ],
          "scatter": [
           {
            "fillpattern": {
             "fillmode": "overlay",
             "size": 10,
             "solidity": 0.2
            },
            "type": "scatter"
           }
          ],
          "scatter3d": [
           {
            "line": {
             "colorbar": {
              "outlinewidth": 0,
              "ticks": ""
             }
            },
            "marker": {
             "colorbar": {
              "outlinewidth": 0,
              "ticks": ""
             }
            },
            "type": "scatter3d"
           }
          ],
          "scattercarpet": [
           {
            "marker": {
             "colorbar": {
              "outlinewidth": 0,
              "ticks": ""
             }
            },
            "type": "scattercarpet"
           }
          ],
          "scattergeo": [
           {
            "marker": {
             "colorbar": {
              "outlinewidth": 0,
              "ticks": ""
             }
            },
            "type": "scattergeo"
           }
          ],
          "scattergl": [
           {
            "marker": {
             "colorbar": {
              "outlinewidth": 0,
              "ticks": ""
             }
            },
            "type": "scattergl"
           }
          ],
          "scattermapbox": [
           {
            "marker": {
             "colorbar": {
              "outlinewidth": 0,
              "ticks": ""
             }
            },
            "type": "scattermapbox"
           }
          ],
          "scatterpolar": [
           {
            "marker": {
             "colorbar": {
              "outlinewidth": 0,
              "ticks": ""
             }
            },
            "type": "scatterpolar"
           }
          ],
          "scatterpolargl": [
           {
            "marker": {
             "colorbar": {
              "outlinewidth": 0,
              "ticks": ""
             }
            },
            "type": "scatterpolargl"
           }
          ],
          "scatterternary": [
           {
            "marker": {
             "colorbar": {
              "outlinewidth": 0,
              "ticks": ""
             }
            },
            "type": "scatterternary"
           }
          ],
          "surface": [
           {
            "colorbar": {
             "outlinewidth": 0,
             "ticks": ""
            },
            "colorscale": [
             [
              0,
              "#0d0887"
             ],
             [
              0.1111111111111111,
              "#46039f"
             ],
             [
              0.2222222222222222,
              "#7201a8"
             ],
             [
              0.3333333333333333,
              "#9c179e"
             ],
             [
              0.4444444444444444,
              "#bd3786"
             ],
             [
              0.5555555555555556,
              "#d8576b"
             ],
             [
              0.6666666666666666,
              "#ed7953"
             ],
             [
              0.7777777777777778,
              "#fb9f3a"
             ],
             [
              0.8888888888888888,
              "#fdca26"
             ],
             [
              1,
              "#f0f921"
             ]
            ],
            "type": "surface"
           }
          ],
          "table": [
           {
            "cells": {
             "fill": {
              "color": "#EBF0F8"
             },
             "line": {
              "color": "white"
             }
            },
            "header": {
             "fill": {
              "color": "#C8D4E3"
             },
             "line": {
              "color": "white"
             }
            },
            "type": "table"
           }
          ]
         },
         "layout": {
          "annotationdefaults": {
           "arrowcolor": "#2a3f5f",
           "arrowhead": 0,
           "arrowwidth": 1
          },
          "autotypenumbers": "strict",
          "coloraxis": {
           "colorbar": {
            "outlinewidth": 0,
            "ticks": ""
           }
          },
          "colorscale": {
           "diverging": [
            [
             0,
             "#8e0152"
            ],
            [
             0.1,
             "#c51b7d"
            ],
            [
             0.2,
             "#de77ae"
            ],
            [
             0.3,
             "#f1b6da"
            ],
            [
             0.4,
             "#fde0ef"
            ],
            [
             0.5,
             "#f7f7f7"
            ],
            [
             0.6,
             "#e6f5d0"
            ],
            [
             0.7,
             "#b8e186"
            ],
            [
             0.8,
             "#7fbc41"
            ],
            [
             0.9,
             "#4d9221"
            ],
            [
             1,
             "#276419"
            ]
           ],
           "sequential": [
            [
             0,
             "#0d0887"
            ],
            [
             0.1111111111111111,
             "#46039f"
            ],
            [
             0.2222222222222222,
             "#7201a8"
            ],
            [
             0.3333333333333333,
             "#9c179e"
            ],
            [
             0.4444444444444444,
             "#bd3786"
            ],
            [
             0.5555555555555556,
             "#d8576b"
            ],
            [
             0.6666666666666666,
             "#ed7953"
            ],
            [
             0.7777777777777778,
             "#fb9f3a"
            ],
            [
             0.8888888888888888,
             "#fdca26"
            ],
            [
             1,
             "#f0f921"
            ]
           ],
           "sequentialminus": [
            [
             0,
             "#0d0887"
            ],
            [
             0.1111111111111111,
             "#46039f"
            ],
            [
             0.2222222222222222,
             "#7201a8"
            ],
            [
             0.3333333333333333,
             "#9c179e"
            ],
            [
             0.4444444444444444,
             "#bd3786"
            ],
            [
             0.5555555555555556,
             "#d8576b"
            ],
            [
             0.6666666666666666,
             "#ed7953"
            ],
            [
             0.7777777777777778,
             "#fb9f3a"
            ],
            [
             0.8888888888888888,
             "#fdca26"
            ],
            [
             1,
             "#f0f921"
            ]
           ]
          },
          "colorway": [
           "#636efa",
           "#EF553B",
           "#00cc96",
           "#ab63fa",
           "#FFA15A",
           "#19d3f3",
           "#FF6692",
           "#B6E880",
           "#FF97FF",
           "#FECB52"
          ],
          "font": {
           "color": "#2a3f5f"
          },
          "geo": {
           "bgcolor": "white",
           "lakecolor": "white",
           "landcolor": "#E5ECF6",
           "showlakes": true,
           "showland": true,
           "subunitcolor": "white"
          },
          "hoverlabel": {
           "align": "left"
          },
          "hovermode": "closest",
          "mapbox": {
           "style": "light"
          },
          "paper_bgcolor": "white",
          "plot_bgcolor": "#E5ECF6",
          "polar": {
           "angularaxis": {
            "gridcolor": "white",
            "linecolor": "white",
            "ticks": ""
           },
           "bgcolor": "#E5ECF6",
           "radialaxis": {
            "gridcolor": "white",
            "linecolor": "white",
            "ticks": ""
           }
          },
          "scene": {
           "xaxis": {
            "backgroundcolor": "#E5ECF6",
            "gridcolor": "white",
            "gridwidth": 2,
            "linecolor": "white",
            "showbackground": true,
            "ticks": "",
            "zerolinecolor": "white"
           },
           "yaxis": {
            "backgroundcolor": "#E5ECF6",
            "gridcolor": "white",
            "gridwidth": 2,
            "linecolor": "white",
            "showbackground": true,
            "ticks": "",
            "zerolinecolor": "white"
           },
           "zaxis": {
            "backgroundcolor": "#E5ECF6",
            "gridcolor": "white",
            "gridwidth": 2,
            "linecolor": "white",
            "showbackground": true,
            "ticks": "",
            "zerolinecolor": "white"
           }
          },
          "shapedefaults": {
           "line": {
            "color": "#2a3f5f"
           }
          },
          "ternary": {
           "aaxis": {
            "gridcolor": "white",
            "linecolor": "white",
            "ticks": ""
           },
           "baxis": {
            "gridcolor": "white",
            "linecolor": "white",
            "ticks": ""
           },
           "bgcolor": "#E5ECF6",
           "caxis": {
            "gridcolor": "white",
            "linecolor": "white",
            "ticks": ""
           }
          },
          "title": {
           "x": 0.05
          },
          "xaxis": {
           "automargin": true,
           "gridcolor": "white",
           "linecolor": "white",
           "ticks": "",
           "title": {
            "standoff": 15
           },
           "zerolinecolor": "white",
           "zerolinewidth": 2
          },
          "yaxis": {
           "automargin": true,
           "gridcolor": "white",
           "linecolor": "white",
           "ticks": "",
           "title": {
            "standoff": 15
           },
           "zerolinecolor": "white",
           "zerolinewidth": 2
          }
         }
        },
        "title": {
         "text": "3D PCA Visualization of Word Embeddings"
        }
       }
      }
     },
     "metadata": {},
     "output_type": "display_data"
    }
   ],
   "source": [
    "# Just for exploration!\n",
    "\n",
    "# Apply PCA to reduce dimensions to 3\n",
    "pca = PCA(n_components=3)\n",
    "X_pca = pca.fit_transform(X)\n",
    "\n",
    "# Create a DataFrame for the PCA results\n",
    "pca_df = pd.DataFrame(X_pca, columns=['PC1', 'PC2', 'PC3'])\n",
    "pca_df['word'] = df_filtered['word'].values\n",
    "\n",
    "# Plot the results in 3D\n",
    "fig = px.scatter_3d(\n",
    "    pca_df, \n",
    "    x='PC1', \n",
    "    y='PC2', \n",
    "    z='PC3', \n",
    "    text='word', \n",
    "    title='3D PCA Visualization of Word Embeddings'\n",
    ")\n",
    "\n",
    "# Improve layout and appearance\n",
    "fig.update_traces(marker=dict(size=8), textposition='top center')\n",
    "fig.update_layout(\n",
    "    scene=dict(\n",
    "        xaxis_title='Principal Component 1',\n",
    "        yaxis_title='Principal Component 2',\n",
    "        zaxis_title='Principal Component 3'\n",
    "    ),\n",
    "    margin=dict(l=0, r=0, b=0, t=40)\n",
    ")\n",
    "\n",
    "fig.show()"
   ]
  }
 ],
 "metadata": {
  "kernelspec": {
   "display_name": "venv",
   "language": "python",
   "name": "python3"
  },
  "language_info": {
   "codemirror_mode": {
    "name": "ipython",
    "version": 3
   },
   "file_extension": ".py",
   "mimetype": "text/x-python",
   "name": "python",
   "nbconvert_exporter": "python",
   "pygments_lexer": "ipython3",
   "version": "3.11.5"
  }
 },
 "nbformat": 4,
 "nbformat_minor": 2
}
