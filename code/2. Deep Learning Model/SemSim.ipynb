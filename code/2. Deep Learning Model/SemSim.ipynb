{
 "cells": [
  {
   "cell_type": "markdown",
   "metadata": {},
   "source": [
    "##  Semantic Similarities by analysing the derived embeddings with PCA"
   ]
  },
  {
   "cell_type": "code",
   "execution_count": 529,
   "metadata": {},
   "outputs": [],
   "source": [
    "import numpy as np\n",
    "from sklearn.decomposition import PCA\n",
    "import matplotlib.pyplot as plt\n",
    "import pandas as pd\n",
    "import seaborn as sns\n",
    "from sklearn.preprocessing import StandardScaler\n",
    "import matplotlib.patheffects as PathEffects\n",
    "from sklearn.metrics.pairwise import cosine_similarity\n",
    "import plotly.express as px\n",
    "\n",
    "\n",
    "df_embeddings = pd.read_csv(\"/Users/fabianmahner/dlss-project24/output/embeddings/embeddings_CBOW_total_posts.csv\")\n"
   ]
  },
  {
   "cell_type": "code",
   "execution_count": 530,
   "metadata": {},
   "outputs": [],
   "source": [
    "df_embeddings = df_embeddings.iloc[:,1:]"
   ]
  },
  {
   "cell_type": "code",
   "execution_count": 531,
   "metadata": {},
   "outputs": [
    {
     "data": {
      "text/html": [
       "<div>\n",
       "<style scoped>\n",
       "    .dataframe tbody tr th:only-of-type {\n",
       "        vertical-align: middle;\n",
       "    }\n",
       "\n",
       "    .dataframe tbody tr th {\n",
       "        vertical-align: top;\n",
       "    }\n",
       "\n",
       "    .dataframe thead th {\n",
       "        text-align: right;\n",
       "    }\n",
       "</style>\n",
       "<table border=\"1\" class=\"dataframe\">\n",
       "  <thead>\n",
       "    <tr style=\"text-align: right;\">\n",
       "      <th></th>\n",
       "      <th>word</th>\n",
       "      <th>0</th>\n",
       "      <th>1</th>\n",
       "      <th>2</th>\n",
       "      <th>3</th>\n",
       "      <th>4</th>\n",
       "      <th>5</th>\n",
       "      <th>6</th>\n",
       "      <th>7</th>\n",
       "      <th>8</th>\n",
       "      <th>...</th>\n",
       "      <th>90</th>\n",
       "      <th>91</th>\n",
       "      <th>92</th>\n",
       "      <th>93</th>\n",
       "      <th>94</th>\n",
       "      <th>95</th>\n",
       "      <th>96</th>\n",
       "      <th>97</th>\n",
       "      <th>98</th>\n",
       "      <th>99</th>\n",
       "    </tr>\n",
       "  </thead>\n",
       "  <tbody>\n",
       "    <tr>\n",
       "      <th>0</th>\n",
       "      <td>city</td>\n",
       "      <td>3.187496e-02</td>\n",
       "      <td>-1.255769e-01</td>\n",
       "      <td>-1.252872e-01</td>\n",
       "      <td>-7.430278e-02</td>\n",
       "      <td>-6.662598e-02</td>\n",
       "      <td>-1.061271e-01</td>\n",
       "      <td>8.790804e-02</td>\n",
       "      <td>-3.463078e-02</td>\n",
       "      <td>-1.090932e-01</td>\n",
       "      <td>...</td>\n",
       "      <td>8.918405e-02</td>\n",
       "      <td>-2.928032e-03</td>\n",
       "      <td>2.923920e-02</td>\n",
       "      <td>1.201511e-01</td>\n",
       "      <td>-4.159504e-03</td>\n",
       "      <td>-1.187051e-01</td>\n",
       "      <td>-8.843514e-02</td>\n",
       "      <td>1.570602e-02</td>\n",
       "      <td>-5.467511e-02</td>\n",
       "      <td>-9.079038e-02</td>\n",
       "    </tr>\n",
       "    <tr>\n",
       "      <th>1</th>\n",
       "      <td>without</td>\n",
       "      <td>6.184779e-02</td>\n",
       "      <td>-1.043726e-01</td>\n",
       "      <td>-8.448507e-02</td>\n",
       "      <td>2.080021e-01</td>\n",
       "      <td>-8.813742e-02</td>\n",
       "      <td>3.024186e-02</td>\n",
       "      <td>4.034633e-02</td>\n",
       "      <td>-8.739900e-02</td>\n",
       "      <td>4.342840e-02</td>\n",
       "      <td>...</td>\n",
       "      <td>-9.296446e-02</td>\n",
       "      <td>1.871214e-02</td>\n",
       "      <td>9.012337e-02</td>\n",
       "      <td>1.016743e-01</td>\n",
       "      <td>1.136650e-02</td>\n",
       "      <td>-9.624563e-02</td>\n",
       "      <td>5.905829e-02</td>\n",
       "      <td>5.760413e-02</td>\n",
       "      <td>9.226614e-02</td>\n",
       "      <td>-1.767980e-01</td>\n",
       "    </tr>\n",
       "    <tr>\n",
       "      <th>2</th>\n",
       "      <td>water</td>\n",
       "      <td>-5.455660e-02</td>\n",
       "      <td>-1.529249e-01</td>\n",
       "      <td>-1.626026e-01</td>\n",
       "      <td>-5.569708e-02</td>\n",
       "      <td>1.254430e-01</td>\n",
       "      <td>4.621255e-02</td>\n",
       "      <td>1.263181e-01</td>\n",
       "      <td>-1.231628e-01</td>\n",
       "      <td>-6.419506e-02</td>\n",
       "      <td>...</td>\n",
       "      <td>2.227263e-01</td>\n",
       "      <td>-7.700393e-02</td>\n",
       "      <td>-8.255928e-02</td>\n",
       "      <td>1.432757e-01</td>\n",
       "      <td>-3.375542e-02</td>\n",
       "      <td>-1.573365e-01</td>\n",
       "      <td>-1.036720e-01</td>\n",
       "      <td>1.159502e-01</td>\n",
       "      <td>-6.682982e-02</td>\n",
       "      <td>-1.246089e-01</td>\n",
       "    </tr>\n",
       "    <tr>\n",
       "      <th>3</th>\n",
       "      <td>be</td>\n",
       "      <td>1.396619e+00</td>\n",
       "      <td>-1.412009e+00</td>\n",
       "      <td>-1.445828e+00</td>\n",
       "      <td>-1.298377e-01</td>\n",
       "      <td>7.235935e-02</td>\n",
       "      <td>1.158835e-01</td>\n",
       "      <td>-7.927992e-02</td>\n",
       "      <td>1.433256e-01</td>\n",
       "      <td>4.399346e-02</td>\n",
       "      <td>...</td>\n",
       "      <td>1.399278e-01</td>\n",
       "      <td>-1.651254e-01</td>\n",
       "      <td>-1.674009e+00</td>\n",
       "      <td>1.453903e+00</td>\n",
       "      <td>1.091762e+00</td>\n",
       "      <td>-1.450030e+00</td>\n",
       "      <td>-1.242432e-01</td>\n",
       "      <td>9.707630e-01</td>\n",
       "      <td>-5.642841e-02</td>\n",
       "      <td>1.538694e-01</td>\n",
       "    </tr>\n",
       "    <tr>\n",
       "      <th>4</th>\n",
       "      <td>our</td>\n",
       "      <td>-6.786830e-02</td>\n",
       "      <td>-5.629227e-01</td>\n",
       "      <td>-5.894241e-01</td>\n",
       "      <td>1.014113e-01</td>\n",
       "      <td>-1.364908e-02</td>\n",
       "      <td>-3.954599e-01</td>\n",
       "      <td>-5.190908e-02</td>\n",
       "      <td>-4.611208e-03</td>\n",
       "      <td>-6.772427e-01</td>\n",
       "      <td>...</td>\n",
       "      <td>2.062865e-01</td>\n",
       "      <td>-7.302897e-02</td>\n",
       "      <td>5.780031e-02</td>\n",
       "      <td>5.850066e-01</td>\n",
       "      <td>2.507563e-01</td>\n",
       "      <td>-5.819518e-01</td>\n",
       "      <td>9.253128e-02</td>\n",
       "      <td>1.647053e-01</td>\n",
       "      <td>-5.934814e-02</td>\n",
       "      <td>-2.588651e-01</td>\n",
       "    </tr>\n",
       "    <tr>\n",
       "      <th>...</th>\n",
       "      <td>...</td>\n",
       "      <td>...</td>\n",
       "      <td>...</td>\n",
       "      <td>...</td>\n",
       "      <td>...</td>\n",
       "      <td>...</td>\n",
       "      <td>...</td>\n",
       "      <td>...</td>\n",
       "      <td>...</td>\n",
       "      <td>...</td>\n",
       "      <td>...</td>\n",
       "      <td>...</td>\n",
       "      <td>...</td>\n",
       "      <td>...</td>\n",
       "      <td>...</td>\n",
       "      <td>...</td>\n",
       "      <td>...</td>\n",
       "      <td>...</td>\n",
       "      <td>...</td>\n",
       "      <td>...</td>\n",
       "      <td>...</td>\n",
       "    </tr>\n",
       "    <tr>\n",
       "      <th>9985</th>\n",
       "      <td>colab</td>\n",
       "      <td>1.104704e-24</td>\n",
       "      <td>1.522647e-04</td>\n",
       "      <td>2.045534e-05</td>\n",
       "      <td>-8.925561e-03</td>\n",
       "      <td>-4.053197e-03</td>\n",
       "      <td>1.232454e-02</td>\n",
       "      <td>1.251300e-02</td>\n",
       "      <td>1.647083e-02</td>\n",
       "      <td>-4.748537e-03</td>\n",
       "      <td>...</td>\n",
       "      <td>-4.788051e-03</td>\n",
       "      <td>1.097929e-07</td>\n",
       "      <td>-4.185686e-03</td>\n",
       "      <td>-4.315797e-05</td>\n",
       "      <td>1.036578e-02</td>\n",
       "      <td>-7.689097e-05</td>\n",
       "      <td>4.621899e-04</td>\n",
       "      <td>3.194762e-03</td>\n",
       "      <td>2.176613e-03</td>\n",
       "      <td>-8.515752e-08</td>\n",
       "    </tr>\n",
       "    <tr>\n",
       "      <th>9986</th>\n",
       "      <td>ladybird</td>\n",
       "      <td>-1.064568e-03</td>\n",
       "      <td>1.792277e-03</td>\n",
       "      <td>3.295426e-04</td>\n",
       "      <td>1.810920e-03</td>\n",
       "      <td>2.044498e-02</td>\n",
       "      <td>-8.877015e-03</td>\n",
       "      <td>-1.381670e-02</td>\n",
       "      <td>2.591648e-02</td>\n",
       "      <td>8.971050e-03</td>\n",
       "      <td>...</td>\n",
       "      <td>-3.143129e-02</td>\n",
       "      <td>1.614905e-02</td>\n",
       "      <td>-1.264274e-04</td>\n",
       "      <td>5.123698e-03</td>\n",
       "      <td>-3.284769e-03</td>\n",
       "      <td>5.571940e-03</td>\n",
       "      <td>-1.820427e-02</td>\n",
       "      <td>6.235522e-10</td>\n",
       "      <td>3.448384e-02</td>\n",
       "      <td>1.250696e-02</td>\n",
       "    </tr>\n",
       "    <tr>\n",
       "      <th>9987</th>\n",
       "      <td>populartopic</td>\n",
       "      <td>-1.182782e-02</td>\n",
       "      <td>-6.860299e-03</td>\n",
       "      <td>-1.335546e-03</td>\n",
       "      <td>1.470874e-02</td>\n",
       "      <td>-2.362208e-03</td>\n",
       "      <td>-1.408758e-04</td>\n",
       "      <td>-1.450989e-02</td>\n",
       "      <td>1.118288e-02</td>\n",
       "      <td>-3.995135e-03</td>\n",
       "      <td>...</td>\n",
       "      <td>5.837749e-03</td>\n",
       "      <td>-2.792721e-06</td>\n",
       "      <td>4.580304e-03</td>\n",
       "      <td>6.802011e-03</td>\n",
       "      <td>1.126047e-03</td>\n",
       "      <td>-6.178364e-03</td>\n",
       "      <td>-1.096115e-02</td>\n",
       "      <td>1.235175e-02</td>\n",
       "      <td>-4.304812e-03</td>\n",
       "      <td>4.572632e-03</td>\n",
       "    </tr>\n",
       "    <tr>\n",
       "      <th>9988</th>\n",
       "      <td>druish</td>\n",
       "      <td>-4.518600e-41</td>\n",
       "      <td>4.453500e-41</td>\n",
       "      <td>-4.609300e-41</td>\n",
       "      <td>4.655800e-41</td>\n",
       "      <td>-4.545500e-41</td>\n",
       "      <td>-4.540500e-41</td>\n",
       "      <td>4.493700e-41</td>\n",
       "      <td>1.398430e-40</td>\n",
       "      <td>-4.461000e-41</td>\n",
       "      <td>...</td>\n",
       "      <td>-4.516500e-41</td>\n",
       "      <td>4.491900e-41</td>\n",
       "      <td>-4.502200e-41</td>\n",
       "      <td>4.455700e-41</td>\n",
       "      <td>4.931400e-41</td>\n",
       "      <td>4.482900e-41</td>\n",
       "      <td>-4.479300e-41</td>\n",
       "      <td>-4.470400e-41</td>\n",
       "      <td>-4.479400e-41</td>\n",
       "      <td>-5.547500e-41</td>\n",
       "    </tr>\n",
       "    <tr>\n",
       "      <th>9989</th>\n",
       "      <td>jasznewscuration</td>\n",
       "      <td>-9.473209e-04</td>\n",
       "      <td>-2.421363e-03</td>\n",
       "      <td>1.953769e-03</td>\n",
       "      <td>-1.360984e-02</td>\n",
       "      <td>4.088665e-03</td>\n",
       "      <td>3.119648e-03</td>\n",
       "      <td>2.718936e-02</td>\n",
       "      <td>-1.356212e-03</td>\n",
       "      <td>-2.532796e-02</td>\n",
       "      <td>...</td>\n",
       "      <td>-1.614017e-02</td>\n",
       "      <td>6.125411e-03</td>\n",
       "      <td>-3.297027e-03</td>\n",
       "      <td>6.561703e-05</td>\n",
       "      <td>-2.178068e-11</td>\n",
       "      <td>2.045391e-03</td>\n",
       "      <td>-1.482383e-02</td>\n",
       "      <td>5.982457e-03</td>\n",
       "      <td>-2.873470e-02</td>\n",
       "      <td>-7.329806e-03</td>\n",
       "    </tr>\n",
       "  </tbody>\n",
       "</table>\n",
       "<p>9990 rows × 101 columns</p>\n",
       "</div>"
      ],
      "text/plain": [
       "                  word             0             1             2  \\\n",
       "0                 city  3.187496e-02 -1.255769e-01 -1.252872e-01   \n",
       "1              without  6.184779e-02 -1.043726e-01 -8.448507e-02   \n",
       "2                water -5.455660e-02 -1.529249e-01 -1.626026e-01   \n",
       "3                   be  1.396619e+00 -1.412009e+00 -1.445828e+00   \n",
       "4                  our -6.786830e-02 -5.629227e-01 -5.894241e-01   \n",
       "...                ...           ...           ...           ...   \n",
       "9985             colab  1.104704e-24  1.522647e-04  2.045534e-05   \n",
       "9986          ladybird -1.064568e-03  1.792277e-03  3.295426e-04   \n",
       "9987      populartopic -1.182782e-02 -6.860299e-03 -1.335546e-03   \n",
       "9988            druish -4.518600e-41  4.453500e-41 -4.609300e-41   \n",
       "9989  jasznewscuration -9.473209e-04 -2.421363e-03  1.953769e-03   \n",
       "\n",
       "                 3             4             5             6             7  \\\n",
       "0    -7.430278e-02 -6.662598e-02 -1.061271e-01  8.790804e-02 -3.463078e-02   \n",
       "1     2.080021e-01 -8.813742e-02  3.024186e-02  4.034633e-02 -8.739900e-02   \n",
       "2    -5.569708e-02  1.254430e-01  4.621255e-02  1.263181e-01 -1.231628e-01   \n",
       "3    -1.298377e-01  7.235935e-02  1.158835e-01 -7.927992e-02  1.433256e-01   \n",
       "4     1.014113e-01 -1.364908e-02 -3.954599e-01 -5.190908e-02 -4.611208e-03   \n",
       "...            ...           ...           ...           ...           ...   \n",
       "9985 -8.925561e-03 -4.053197e-03  1.232454e-02  1.251300e-02  1.647083e-02   \n",
       "9986  1.810920e-03  2.044498e-02 -8.877015e-03 -1.381670e-02  2.591648e-02   \n",
       "9987  1.470874e-02 -2.362208e-03 -1.408758e-04 -1.450989e-02  1.118288e-02   \n",
       "9988  4.655800e-41 -4.545500e-41 -4.540500e-41  4.493700e-41  1.398430e-40   \n",
       "9989 -1.360984e-02  4.088665e-03  3.119648e-03  2.718936e-02 -1.356212e-03   \n",
       "\n",
       "                 8  ...            90            91            92  \\\n",
       "0    -1.090932e-01  ...  8.918405e-02 -2.928032e-03  2.923920e-02   \n",
       "1     4.342840e-02  ... -9.296446e-02  1.871214e-02  9.012337e-02   \n",
       "2    -6.419506e-02  ...  2.227263e-01 -7.700393e-02 -8.255928e-02   \n",
       "3     4.399346e-02  ...  1.399278e-01 -1.651254e-01 -1.674009e+00   \n",
       "4    -6.772427e-01  ...  2.062865e-01 -7.302897e-02  5.780031e-02   \n",
       "...            ...  ...           ...           ...           ...   \n",
       "9985 -4.748537e-03  ... -4.788051e-03  1.097929e-07 -4.185686e-03   \n",
       "9986  8.971050e-03  ... -3.143129e-02  1.614905e-02 -1.264274e-04   \n",
       "9987 -3.995135e-03  ...  5.837749e-03 -2.792721e-06  4.580304e-03   \n",
       "9988 -4.461000e-41  ... -4.516500e-41  4.491900e-41 -4.502200e-41   \n",
       "9989 -2.532796e-02  ... -1.614017e-02  6.125411e-03 -3.297027e-03   \n",
       "\n",
       "                93            94            95            96            97  \\\n",
       "0     1.201511e-01 -4.159504e-03 -1.187051e-01 -8.843514e-02  1.570602e-02   \n",
       "1     1.016743e-01  1.136650e-02 -9.624563e-02  5.905829e-02  5.760413e-02   \n",
       "2     1.432757e-01 -3.375542e-02 -1.573365e-01 -1.036720e-01  1.159502e-01   \n",
       "3     1.453903e+00  1.091762e+00 -1.450030e+00 -1.242432e-01  9.707630e-01   \n",
       "4     5.850066e-01  2.507563e-01 -5.819518e-01  9.253128e-02  1.647053e-01   \n",
       "...            ...           ...           ...           ...           ...   \n",
       "9985 -4.315797e-05  1.036578e-02 -7.689097e-05  4.621899e-04  3.194762e-03   \n",
       "9986  5.123698e-03 -3.284769e-03  5.571940e-03 -1.820427e-02  6.235522e-10   \n",
       "9987  6.802011e-03  1.126047e-03 -6.178364e-03 -1.096115e-02  1.235175e-02   \n",
       "9988  4.455700e-41  4.931400e-41  4.482900e-41 -4.479300e-41 -4.470400e-41   \n",
       "9989  6.561703e-05 -2.178068e-11  2.045391e-03 -1.482383e-02  5.982457e-03   \n",
       "\n",
       "                98            99  \n",
       "0    -5.467511e-02 -9.079038e-02  \n",
       "1     9.226614e-02 -1.767980e-01  \n",
       "2    -6.682982e-02 -1.246089e-01  \n",
       "3    -5.642841e-02  1.538694e-01  \n",
       "4    -5.934814e-02 -2.588651e-01  \n",
       "...            ...           ...  \n",
       "9985  2.176613e-03 -8.515752e-08  \n",
       "9986  3.448384e-02  1.250696e-02  \n",
       "9987 -4.304812e-03  4.572632e-03  \n",
       "9988 -4.479400e-41 -5.547500e-41  \n",
       "9989 -2.873470e-02 -7.329806e-03  \n",
       "\n",
       "[9990 rows x 101 columns]"
      ]
     },
     "execution_count": 531,
     "metadata": {},
     "output_type": "execute_result"
    }
   ],
   "source": [
    "df_embeddings"
   ]
  },
  {
   "cell_type": "markdown",
   "metadata": {},
   "source": [
    "## First PCA"
   ]
  },
  {
   "cell_type": "code",
   "execution_count": 532,
   "metadata": {},
   "outputs": [],
   "source": [
    "# Drop the non-numerical 'word' column\n",
    "X = df_embeddings.drop(columns=['word'])\n",
    "# Standardize the data\n",
    "X_standardized = StandardScaler().fit_transform(X)"
   ]
  },
  {
   "cell_type": "code",
   "execution_count": 533,
   "metadata": {},
   "outputs": [
    {
     "data": {
      "image/png": "[encoded data removed]",
      "text/plain": [
       "<Figure size 1200x800 with 1 Axes>"
      ]
     },
     "metadata": {},
     "output_type": "display_data"
    }
   ],
   "source": [
    "# Perform PCA to reduce to 2 components\n",
    "pca = PCA(n_components=2)\n",
    "principal_components = pca.fit_transform(X_standardized)\n",
    "\n",
    "# Create a DataFrame with the PCA results\n",
    "pca_df = pd.DataFrame(data=principal_components, columns=['PC1', 'PC2'])\n",
    "\n",
    "# Add the 'word' column back for labeling\n",
    "pca_df['word'] = df_embeddings['word']\n",
    "\n",
    "# Specifying the words to highlight\n",
    "\n",
    "climate_words = [\"hurricane\", \"flood\", \"drought\", \"melt\", \"hoax\", \"greenhouse\",\"warming\"\n",
    "                   \"science\", \"emissions\", \"wildfire\" , \"pollution\" ]\n",
    "\n",
    "politics_words = [\"trump\", \"biden\", \"republican\", \"greta\" \"democrat\", \"election\", \"congress\", \"senate\", \n",
    "                   \"president\", \"vote\", \"campaign\", \"party\", \"policy\"]\n",
    "\n",
    "\n",
    "# Filter the DataFrame to include only the selected words\n",
    "climate_df = pca_df[pca_df['word'].isin(climate_words)]\n",
    "politics_df = pca_df[pca_df['word'].isin(politics_words)]\n",
    "\n",
    "# Plotting the PCA results\n",
    "plt.figure(figsize=(12, 8))\n",
    "sns.scatterplot(x='PC1', y='PC2', data=pca_df, color='gray', alpha=0.5)\n",
    "\n",
    "# Highlight the selected words in a different color\n",
    "sns.scatterplot(x='PC1', y='PC2', data=climate_df, color='red')\n",
    "\n",
    "sns.scatterplot(x='PC1', y='PC2', data=politics_df, color='blue')\n",
    "\n",
    "# Annotate the points with the selected word labels with improved styling\n",
    "for i in range(climate_df.shape[0]):\n",
    "    txt = plt.text(x=climate_df.PC1.iloc[i], y=climate_df.PC2.iloc[i], s=climate_df.word.iloc[i], \n",
    "                   fontdict=dict(color='black', size=5, weight='roman'))\n",
    "    \n",
    "    txt.set_path_effects([PathEffects.withStroke(linewidth=1, foreground='white')])\n",
    "for i in range(politics_df.shape[0]):\n",
    "    txt = plt.text(x=politics_df.PC1.iloc[i], y=politics_df.PC2.iloc[i], s=politics_df.word.iloc[i], \n",
    "                   fontdict=dict(color='black', size=5, weight='roman'))\n",
    "    \n",
    "    txt.set_path_effects([PathEffects.withStroke(linewidth=1, foreground='white')])\n",
    "plt.xlim(-20, 50)  # Example limits for PC1\n",
    "plt.ylim(-50, 50)  # Example limits for PC2\n",
    "plt.title('PCA of Word Embeddings with Selected Words Highlighted')\n",
    "plt.xlabel('Principal Component 1')\n",
    "plt.ylabel('Principal Component 2')\n",
    "plt.show()\n"
   ]
  },
  {
   "cell_type": "code",
   "execution_count": 534,
   "metadata": {},
   "outputs": [
    {
     "name": "stdout",
     "output_type": "stream",
     "text": [
      "The five closest words to the result of the arithmetic operation are:\n",
      "weather\n",
      "report\n",
      "health\n",
      "face\n",
      "extreme\n"
     ]
    }
   ],
   "source": [
    "# Calculate the cosine similarity between the vectors for 'hurricane' and 'flood'\n",
    "# Extract vectors for the words\n",
    "vector_hurricane = pca_df[pca_df['word'] == 'hurricane'][['PC1', 'PC2']].values[0]\n",
    "vector_wind = pca_df[pca_df['word'] == 'wind'][['PC1', 'PC2']].values[0]\n",
    "vector_water = pca_df[pca_df['word'] == 'water'][['PC1', 'PC2']].values[0]\n",
    "\n",
    "# Perform the arithmetic: renewable - fossil + energy\n",
    "result_vector = vector_hurricane - vector_wind + vector_water\n",
    "\n",
    "# Calculate the distances between the result_vector and all other vectors\n",
    "distances = np.linalg.norm(pca_df[['PC1', 'PC2']].values - result_vector, axis=1)\n",
    "\n",
    "# Find the indices of the five closest vectors\n",
    "closest_word_indices = np.argsort(distances)[:5]\n",
    "\n",
    "# Retrieve the corresponding words\n",
    "closest_words = pca_df.iloc[closest_word_indices]['word'].values\n",
    "\n",
    "print(\"The five closest words to the result of the arithmetic operation are:\")\n",
    "for word in closest_words:\n",
    "    print(word)\n"
   ]
  },
  {
   "cell_type": "markdown",
   "metadata": {},
   "source": [
    "# Code"
   ]
  },
  {
   "cell_type": "code",
   "execution_count": 535,
   "metadata": {},
   "outputs": [
    {
     "data": {
      "image/png": "[encoded data removed]",
      "text/plain": [
       "<Figure size 1000x700 with 1 Axes>"
      ]
     },
     "metadata": {},
     "output_type": "display_data"
    }
   ],
   "source": [
    "# List of words you want to visualize\n",
    "words_to_visualize = ['carbon', 'sustainability', 'emission', \"electric\", \"heatwave\", \"hurricane\",\n",
    "                      \"drought\", \"flood\", \n",
    "                      \"trump\", \"greta\", \"wind\", \"solar\", \"coal\", \"oil\", \"gas\",  \"hoax\"]\n",
    "\n",
    "# Filter the dataframe for those words\n",
    "df_filtered = df_embeddings[df_embeddings['word'].isin(words_to_visualize)]\n",
    "\n",
    "# Extract the features for PCA\n",
    "X = df_filtered.drop(columns=['word'])\n",
    "\n",
    "# Apply PCA to reduce dimensions to 2\n",
    "pca = PCA(n_components=2)\n",
    "X_pca = pca.fit_transform(X)\n",
    "\n",
    "# Create a DataFrame for the PCA results\n",
    "pca_df = pd.DataFrame(X_pca, columns=['PC1', 'PC2'])\n",
    "pca_df['word'] = df_filtered['word'].values\n",
    "\n",
    "# Plot the results\n",
    "plt.figure(figsize=(10, 7))\n",
    "for i, word in enumerate(pca_df['word']):\n",
    "    plt.scatter(pca_df['PC1'].iloc[i], pca_df['PC2'].iloc[i], label=word)\n",
    "    plt.text(pca_df['PC1'].iloc[i] + 0.01, pca_df['PC2'].iloc[i] + 0.01, word, fontsize=12)\n",
    "\n",
    "plt.title('PCA Visualization of Word Embeddings')\n",
    "plt.xlabel('Principal Component 1')\n",
    "plt.ylabel('Principal Component 2')\n",
    "plt.legend()\n",
    "plt.grid(True)\n",
    "plt.show()"
   ]
  },
  {
   "cell_type": "code",
   "execution_count": null,
   "metadata": {},
   "outputs": [],
   "source": []
  },
  {
   "cell_type": "markdown",
   "metadata": {},
   "source": [
    "## Cosine similarity"
   ]
  },
  {
   "cell_type": "code",
   "execution_count": 536,
   "metadata": {},
   "outputs": [
    {
     "name": "stdout",
     "output_type": "stream",
     "text": [
      "Words similar to 'sustainability':\n",
      "conflict: 0.7746\n",
      "education: 0.7416\n",
      "biodiversity: 0.7322\n",
      "\n",
      "\n",
      "Words similar to 'xi':\n",
      "jinping: 0.6855\n",
      "prince: 0.6466\n",
      "attenborough: 0.5874\n",
      "\n",
      "\n",
      "Words similar to 'greta':\n",
      "activist: 0.9110\n",
      "spar: 0.7936\n",
      "thunberg: 0.7605\n",
      "\n",
      "\n",
      "Words similar to 'emission':\n",
      "gas: 0.9381\n",
      "carbon: 0.9340\n",
      "dioxide: 0.9101\n",
      "\n",
      "\n",
      "Words similar to 'carbon':\n",
      "emission: 0.9340\n",
      "greenhouse: 0.8870\n",
      "gas: 0.8825\n",
      "\n",
      "\n",
      "Words similar to 'donald':\n",
      "president: 0.7803\n",
      "trump: 0.6852\n",
      "barack: 0.6800\n",
      "\n",
      "\n"
     ]
    }
   ],
   "source": [
    "# Function to find the most similar words to a given word\n",
    "def find_similar_words(word, word_embeddings, top_n=10):\n",
    "    word_vector = word_embeddings.loc[word].values.reshape(1, -1)\n",
    "    similarities = cosine_similarity(word_vector, word_embeddings)\n",
    "    similarities = similarities.flatten()\n",
    "    most_similar_indices = np.argsort(similarities)[::-1][1:top_n+1]\n",
    "    similar_words = word_embeddings.index[most_similar_indices]\n",
    "    return similar_words, similarities[most_similar_indices]\n",
    "\n",
    "# Filter word embeddings to include only the relevant words\n",
    "climate_terms = [\"sustainability\", \"xi\", \"greta\", \"emission\", \"carbon\", \"donald\"]\n",
    "\n",
    "similar_words_dict = {}\n",
    "for term in climate_terms:\n",
    "    similar_words, similarities = find_similar_words(term, df_embeddings.set_index('word'), top_n=3)\n",
    "    similar_words_dict[term] = list(zip(similar_words, similarities))\n",
    "\n",
    "# Display similar words for each climate term\n",
    "for term, similar_words in similar_words_dict.items():\n",
    "    print(f\"Words similar to '{term}':\")\n",
    "    for word, similarity in similar_words:\n",
    "        print(f\"{word}: {similarity:.4f}\")\n",
    "    print(\"\\n\")\n"
   ]
  },
  {
   "cell_type": "code",
   "execution_count": 537,
   "metadata": {},
   "outputs": [
    {
     "name": "stdout",
     "output_type": "stream",
     "text": [
      "Cosine similarity between 'emission' and 'carbon': 0.9339666677413528\n"
     ]
    }
   ],
   "source": [
    "def cosine_similarity_between_words(word1, word2, word_embeddings):\n",
    "    # Get the embeddings for the two words\n",
    "    try:\n",
    "        vector1 = word_embeddings.loc[word1].values.reshape(1, -1)\n",
    "        vector2 = word_embeddings.loc[word2].values.reshape(1, -1)\n",
    "    except KeyError as e:\n",
    "        print(f\"Error: {e}\")\n",
    "        return None\n",
    "    \n",
    "    # Check if the vectors are identical (which would yield a similarity of 1.0)\n",
    "    if np.array_equal(vector1, vector2):\n",
    "        print(f\"Warning: The vectors for '{word1}' and '{word2}' are identical.\")\n",
    "    \n",
    "    # Compute the cosine similarity\n",
    "    similarity = cosine_similarity(vector1, vector2)\n",
    "    \n",
    "    return similarity[0][0]\n",
    "\n",
    "# Example usage:\n",
    "word1 = \"emission\"\n",
    "word2 = \"carbon\"\n",
    "\n",
    "# Assuming df_embeddings is a DataFrame with words as the index and embeddings as the columns\n",
    "similarity = cosine_similarity_between_words(word1, word2, df_embeddings.set_index('word'))\n",
    "\n",
    "print(f\"Cosine similarity between '{word1}' and '{word2}': {similarity}\")\n",
    "\n"
   ]
  },
  {
   "cell_type": "code",
   "execution_count": 538,
   "metadata": {},
   "outputs": [
    {
     "name": "stdout",
     "output_type": "stream",
     "text": [
      "5 closest words based on the vector operation are:\n",
      "'electronic', similarity: 0.480580\n",
      "'revamp', similarity: 0.470862\n",
      "'timeline', similarity: 0.425519\n",
      "'las', similarity: 0.421436\n",
      "'rn', similarity: 0.411312\n"
     ]
    }
   ],
   "source": [
    "# King - man + Queen classic\n",
    "\n",
    "def find_closest_words(result_vector, word_embeddings, top_n=5):\n",
    "    # Calculate cosine similarity between the result vector and all other vectors\n",
    "    similarities = cosine_similarity(result_vector.reshape(1, -1), word_embeddings.values).flatten()\n",
    "    \n",
    "    # Get the top_n closest words\n",
    "    closest_words = sorted(list(zip(word_embeddings.index, similarities)), key=lambda x: x[1], reverse=True)[:top_n]\n",
    "    \n",
    "    return closest_words\n",
    "\n",
    "def perform_vector_operation(word1, word2, word3, word_embeddings):\n",
    "    try:\n",
    "        vector1 = word_embeddings.loc[word1].values\n",
    "        vector2 = word_embeddings.loc[word2].values\n",
    "        vector3 = word_embeddings.loc[word3].values\n",
    "    except KeyError as e:\n",
    "        print(f\"Error: {e}\")\n",
    "        return None\n",
    "    \n",
    "    # Perform the vector operation: word1 - word2 + word3\n",
    "    result_vector = vector1 - vector2 + vector3\n",
    "    \n",
    "    return result_vector\n",
    "\n",
    "# Example usage:\n",
    "word1 = \"usa\"\n",
    "word2 = \"trump\"\n",
    "word3 = \"xi\"\n",
    "\n",
    "# Assuming df_embeddings is a DataFrame with words as the index and embeddings as the columns\n",
    "result_vector = perform_vector_operation(word1, word2, word3, df_embeddings.set_index('word'))\n",
    "\n",
    "if result_vector is not None:\n",
    "    closest_words = find_closest_words(result_vector, df_embeddings.set_index('word'))\n",
    "    print(\"5 closest words based on the vector operation are:\")\n",
    "    for word, similarity in closest_words:\n",
    "        print(f\"'{word}', similarity: {similarity:.6f}\")\n"
   ]
  },
  {
   "cell_type": "code",
   "execution_count": 539,
   "metadata": {},
   "outputs": [
    {
     "data": {
      "image/png": "[encoded data removed]",
      "text/plain": [
       "<Figure size 1200x800 with 1 Axes>"
      ]
     },
     "metadata": {},
     "output_type": "display_data"
    }
   ],
   "source": [
    "# Assuming you want to visualize the similar words in the same PCA space\n",
    "similar_words_to_add = [word for sublist in similar_words_dict.values() for word, _ in sublist]\n",
    "df_similar_filtered = df_embeddings[df_embeddings['word'].isin(similar_words_to_add)]\n",
    "\n",
    "# Combine with your original PCA data\n",
    "df_combined = pd.concat([df_filtered, df_similar_filtered])\n",
    "\n",
    "# Perform PCA on the combined dataset\n",
    "X_combined = df_combined.drop(columns=['word'])\n",
    "X_combined_pca = pca.fit_transform(X_combined)\n",
    "\n",
    "# Create a new DataFrame for PCA results\n",
    "pca_df_combined = pd.DataFrame(X_combined_pca, columns=['PC1', 'PC2'])\n",
    "pca_df_combined['word'] = df_combined['word'].values\n",
    "\n",
    "# Plot the results\n",
    "plt.figure(figsize=(12, 8))\n",
    "for i, word in enumerate(pca_df_combined['word']):\n",
    "    plt.scatter(pca_df_combined['PC1'].iloc[i], pca_df_combined['PC2'].iloc[i], label=word)\n",
    "    plt.text(pca_df_combined['PC1'].iloc[i] + 0.01, pca_df_combined['PC2'].iloc[i] + 0.01, word, fontsize=12)\n",
    "\n",
    "plt.title('PCA Visualization of Word Embeddings with Similar Words')\n",
    "plt.xlabel('Principal Component 1')\n",
    "plt.ylabel('Principal Component 2')\n",
    "plt.legend()\n",
    "plt.grid(True)\n",
    "plt.show()\n"
   ]
  },
  {
   "cell_type": "code",
   "execution_count": 540,
   "metadata": {},
   "outputs": [
    {
     "data": {
      "application/vnd.plotly.v1+json": {
       "config": {
        "plotlyServerURL": "https://plot.ly"
       },
       "data": [
        {
         "hovertemplate": "PC1=%{x}<br>PC2=%{y}<br>PC3=%{z}<br>word=%{text}<extra></extra>",
         "legendgroup": "",
         "marker": {
          "color": "#636efa",
          "size": 8,
          "symbol": "circle"
         },
         "mode": "markers+text",
         "name": "",
         "scene": "scene",
         "showlegend": false,
         "text": [
          "drought",
          "carbon",
          "flood",
          "hurricane",
          "greta",
          "gas",
          "emission",
          "heatwave",
          "electric",
          "solar",
          "sustainability",
          "wind",
          "hoax",
          "oil",
          "coal",
          "trump"
         ],
         "textposition": "top center",
         "type": "scatter3d",
         "x": [
          0.022632739150594817,
          -1.7305924828905723,
          0.1416053230917797,
          0.27579460584026605,
          3.0839005222997113,
          -2.2707730684478182,
          -2.2816179185108068,
          0.24691771579957433,
          0.29802595369986534,
          0.12883203910741725,
          0.390878332664709,
          0.12191312160303035,
          0.5882108248996114,
          -0.6453931200026728,
          -0.11929000275098103,
          1.7489554144462927
         ],
         "y": [
          -0.5145265459389475,
          0.4887207241084672,
          -0.4297068180204904,
          -0.4719460965890124,
          1.5984312294305707,
          0.8979596993904875,
          0.9601658992491485,
          -0.582423064896694,
          -0.5274568250194469,
          -0.4635009224881717,
          -0.5901252689078172,
          -0.5496287560308334,
          -1.2929623200855005,
          0.3875256186653528,
          -0.06017231750192343,
          1.1496457646348137
         ],
         "z": [
          -0.26556891040511044,
          0.22080527059673286,
          -0.20296262293792208,
          -0.17098989906894435,
          0.7940062355781732,
          0.39051265499622184,
          0.2388866650338399,
          -0.10260424189638954,
          -0.149252174285276,
          -0.2679385494376055,
          -0.20814153665260476,
          -0.1918724602426832,
          1.3310482919606104,
          -0.35246103598348416,
          -0.2707566955075375,
          -0.7927109917480203
         ]
        }
       ],
       "layout": {
        "legend": {
         "tracegroupgap": 0
        },
        "margin": {
         "b": 0,
         "l": 0,
         "r": 0,
         "t": 40
        },
        "scene": {
         "domain": {
          "x": [
           0,
           1
          ],
          "y": [
           0,
           1
          ]
         },
         "xaxis": {
          "title": {
           "text": "Principal Component 1"
          }
         },
         "yaxis": {
          "title": {
           "text": "Principal Component 2"
          }
         },
         "zaxis": {
          "title": {
           "text": "Principal Component 3"
          }
         }
        },
        "template": {
         "data": {
          "bar": [
           {
            "error_x": {
             "color": "#2a3f5f"
            },
            "error_y": {
             "color": "#2a3f5f"
            },
            "marker": {
             "line": {
              "color": "#E5ECF6",
              "width": 0.5
             },
             "pattern": {
              "fillmode": "overlay",
              "size": 10,
              "solidity": 0.2
             }
            },
            "type": "bar"
           }
          ],
          "barpolar": [
           {
            "marker": {
             "line": {
              "color": "#E5ECF6",
              "width": 0.5
             },
             "pattern": {
              "fillmode": "overlay",
              "size": 10,
              "solidity": 0.2
             }
            },
            "type": "barpolar"
           }
          ],
          "carpet": [
           {
            "aaxis": {
             "endlinecolor": "#2a3f5f",
             "gridcolor": "white",
             "linecolor": "white",
             "minorgridcolor": "white",
             "startlinecolor": "#2a3f5f"
            },
            "baxis": {
             "endlinecolor": "#2a3f5f",
             "gridcolor": "white",
             "linecolor": "white",
             "minorgridcolor": "white",
             "startlinecolor": "#2a3f5f"
            },
            "type": "carpet"
           }
          ],
          "choropleth": [
           {
            "colorbar": {
             "outlinewidth": 0,
             "ticks": ""
            },
            "type": "choropleth"
           }
          ],
          "contour": [
           {
            "colorbar": {
             "outlinewidth": 0,
             "ticks": ""
            },
            "colorscale": [
             [
              0,
              "#0d0887"
             ],
             [
              0.1111111111111111,
              "#46039f"
             ],
             [
              0.2222222222222222,
              "#7201a8"
             ],
             [
              0.3333333333333333,
              "#9c179e"
             ],
             [
              0.4444444444444444,
              "#bd3786"
             ],
             [
              0.5555555555555556,
              "#d8576b"
             ],
             [
              0.6666666666666666,
              "#ed7953"
             ],
             [
              0.7777777777777778,
              "#fb9f3a"
             ],
             [
              0.8888888888888888,
              "#fdca26"
             ],
             [
              1,
              "#f0f921"
             ]
            ],
            "type": "contour"
           }
          ],
          "contourcarpet": [
           {
            "colorbar": {
             "outlinewidth": 0,
             "ticks": ""
            },
            "type": "contourcarpet"
           }
          ],
          "heatmap": [
           {
            "colorbar": {
             "outlinewidth": 0,
             "ticks": ""
            },
            "colorscale": [
             [
              0,
              "#0d0887"
             ],
             [
              0.1111111111111111,
              "#46039f"
             ],
             [
              0.2222222222222222,
              "#7201a8"
             ],
             [
              0.3333333333333333,
              "#9c179e"
             ],
             [
              0.4444444444444444,
              "#bd3786"
             ],
             [
              0.5555555555555556,
              "#d8576b"
             ],
             [
              0.6666666666666666,
              "#ed7953"
             ],
             [
              0.7777777777777778,
              "#fb9f3a"
             ],
             [
              0.8888888888888888,
              "#fdca26"
             ],
             [
              1,
              "#f0f921"
             ]
            ],
            "type": "heatmap"
           }
          ],
          "heatmapgl": [
           {
            "colorbar": {
             "outlinewidth": 0,
             "ticks": ""
            },
            "colorscale": [
             [
              0,
              "#0d0887"
             ],
             [
              0.1111111111111111,
              "#46039f"
             ],
             [
              0.2222222222222222,
              "#7201a8"
             ],
             [
              0.3333333333333333,
              "#9c179e"
             ],
             [
              0.4444444444444444,
              "#bd3786"
             ],
             [
              0.5555555555555556,
              "#d8576b"
             ],
             [
              0.6666666666666666,
              "#ed7953"
             ],
             [
              0.7777777777777778,
              "#fb9f3a"
             ],
             [
              0.8888888888888888,
              "#fdca26"
             ],
             [
              1,
              "#f0f921"
             ]
            ],
            "type": "heatmapgl"
           }
          ],
          "histogram": [
           {
            "marker": {
             "pattern": {
              "fillmode": "overlay",
              "size": 10,
              "solidity": 0.2
             }
            },
            "type": "histogram"
           }
          ],
          "histogram2d": [
           {
            "colorbar": {
             "outlinewidth": 0,
             "ticks": ""
            },
            "colorscale": [
             [
              0,
              "#0d0887"
             ],
             [
              0.1111111111111111,
              "#46039f"
             ],
             [
              0.2222222222222222,
              "#7201a8"
             ],
             [
              0.3333333333333333,
              "#9c179e"
             ],
             [
              0.4444444444444444,
              "#bd3786"
             ],
             [
              0.5555555555555556,
              "#d8576b"
             ],
             [
              0.6666666666666666,
              "#ed7953"
             ],
             [
              0.7777777777777778,
              "#fb9f3a"
             ],
             [
              0.8888888888888888,
              "#fdca26"
             ],
             [
              1,
              "#f0f921"
             ]
            ],
            "type": "histogram2d"
           }
          ],
          "histogram2dcontour": [
           {
            "colorbar": {
             "outlinewidth": 0,
             "ticks": ""
            },
            "colorscale": [
             [
              0,
              "#0d0887"
             ],
             [
              0.1111111111111111,
              "#46039f"
             ],
             [
              0.2222222222222222,
              "#7201a8"
             ],
             [
              0.3333333333333333,
              "#9c179e"
             ],
             [
              0.4444444444444444,
              "#bd3786"
             ],
             [
              0.5555555555555556,
              "#d8576b"
             ],
             [
              0.6666666666666666,
              "#ed7953"
             ],
             [
              0.7777777777777778,
              "#fb9f3a"
             ],
             [
              0.8888888888888888,
              "#fdca26"
             ],
             [
              1,
              "#f0f921"
             ]
            ],
            "type": "histogram2dcontour"
           }
          ],
          "mesh3d": [
           {
            "colorbar": {
             "outlinewidth": 0,
             "ticks": ""
            },
            "type": "mesh3d"
           }
          ],
          "parcoords": [
           {
            "line": {
             "colorbar": {
              "outlinewidth": 0,
              "ticks": ""
             }
            },
            "type": "parcoords"
           }
          ],
          "pie": [
           {
            "automargin": true,
            "type": "pie"
           }
          ],
          "scatter": [
           {
            "fillpattern": {
             "fillmode": "overlay",
             "size": 10,
             "solidity": 0.2
            },
            "type": "scatter"
           }
          ],
          "scatter3d": [
           {
            "line": {
             "colorbar": {
              "outlinewidth": 0,
              "ticks": ""
             }
            },
            "marker": {
             "colorbar": {
              "outlinewidth": 0,
              "ticks": ""
             }
            },
            "type": "scatter3d"
           }
          ],
          "scattercarpet": [
           {
            "marker": {
             "colorbar": {
              "outlinewidth": 0,
              "ticks": ""
             }
            },
            "type": "scattercarpet"
           }
          ],
          "scattergeo": [
           {
            "marker": {
             "colorbar": {
              "outlinewidth": 0,
              "ticks": ""
             }
            },
            "type": "scattergeo"
           }
          ],
          "scattergl": [
           {
            "marker": {
             "colorbar": {
              "outlinewidth": 0,
              "ticks": ""
             }
            },
            "type": "scattergl"
           }
          ],
          "scattermapbox": [
           {
            "marker": {
             "colorbar": {
              "outlinewidth": 0,
              "ticks": ""
             }
            },
            "type": "scattermapbox"
           }
          ],
          "scatterpolar": [
           {
            "marker": {
             "colorbar": {
              "outlinewidth": 0,
              "ticks": ""
             }
            },
            "type": "scatterpolar"
           }
          ],
          "scatterpolargl": [
           {
            "marker": {
             "colorbar": {
              "outlinewidth": 0,
              "ticks": ""
             }
            },
            "type": "scatterpolargl"
           }
          ],
          "scatterternary": [
           {
            "marker": {
             "colorbar": {
              "outlinewidth": 0,
              "ticks": ""
             }
            },
            "type": "scatterternary"
           }
          ],
          "surface": [
           {
            "colorbar": {
             "outlinewidth": 0,
             "ticks": ""
            },
            "colorscale": [
             [
              0,
              "#0d0887"
             ],
             [
              0.1111111111111111,
              "#46039f"
             ],
             [
              0.2222222222222222,
              "#7201a8"
             ],
             [
              0.3333333333333333,
              "#9c179e"
             ],
             [
              0.4444444444444444,
              "#bd3786"
             ],
             [
              0.5555555555555556,
              "#d8576b"
             ],
             [
              0.6666666666666666,
              "#ed7953"
             ],
             [
              0.7777777777777778,
              "#fb9f3a"
             ],
             [
              0.8888888888888888,
              "#fdca26"
             ],
             [
              1,
              "#f0f921"
             ]
            ],
            "type": "surface"
           }
          ],
          "table": [
           {
            "cells": {
             "fill": {
              "color": "#EBF0F8"
             },
             "line": {
              "color": "white"
             }
            },
            "header": {
             "fill": {
              "color": "#C8D4E3"
             },
             "line": {
              "color": "white"
             }
            },
            "type": "table"
           }
          ]
         },
         "layout": {
          "annotationdefaults": {
           "arrowcolor": "#2a3f5f",
           "arrowhead": 0,
           "arrowwidth": 1
          },
          "autotypenumbers": "strict",
          "coloraxis": {
           "colorbar": {
            "outlinewidth": 0,
            "ticks": ""
           }
          },
          "colorscale": {
           "diverging": [
            [
             0,
             "#8e0152"
            ],
            [
             0.1,
             "#c51b7d"
            ],
            [
             0.2,
             "#de77ae"
            ],
            [
             0.3,
             "#f1b6da"
            ],
            [
             0.4,
             "#fde0ef"
            ],
            [
             0.5,
             "#f7f7f7"
            ],
            [
             0.6,
             "#e6f5d0"
            ],
            [
             0.7,
             "#b8e186"
            ],
            [
             0.8,
             "#7fbc41"
            ],
            [
             0.9,
             "#4d9221"
            ],
            [
             1,
             "#276419"
            ]
           ],
           "sequential": [
            [
             0,
             "#0d0887"
            ],
            [
             0.1111111111111111,
             "#46039f"
            ],
            [
             0.2222222222222222,
             "#7201a8"
            ],
            [
             0.3333333333333333,
             "#9c179e"
            ],
            [
             0.4444444444444444,
             "#bd3786"
            ],
            [
             0.5555555555555556,
             "#d8576b"
            ],
            [
             0.6666666666666666,
             "#ed7953"
            ],
            [
             0.7777777777777778,
             "#fb9f3a"
            ],
            [
             0.8888888888888888,
             "#fdca26"
            ],
            [
             1,
             "#f0f921"
            ]
           ],
           "sequentialminus": [
            [
             0,
             "#0d0887"
            ],
            [
             0.1111111111111111,
             "#46039f"
            ],
            [
             0.2222222222222222,
             "#7201a8"
            ],
            [
             0.3333333333333333,
             "#9c179e"
            ],
            [
             0.4444444444444444,
             "#bd3786"
            ],
            [
             0.5555555555555556,
             "#d8576b"
            ],
            [
             0.6666666666666666,
             "#ed7953"
            ],
            [
             0.7777777777777778,
             "#fb9f3a"
            ],
            [
             0.8888888888888888,
             "#fdca26"
            ],
            [
             1,
             "#f0f921"
            ]
           ]
          },
          "colorway": [
           "#636efa",
           "#EF553B",
           "#00cc96",
           "#ab63fa",
           "#FFA15A",
           "#19d3f3",
           "#FF6692",
           "#B6E880",
           "#FF97FF",
           "#FECB52"
          ],
          "font": {
           "color": "#2a3f5f"
          },
          "geo": {
           "bgcolor": "white",
           "lakecolor": "white",
           "landcolor": "#E5ECF6",
           "showlakes": true,
           "showland": true,
           "subunitcolor": "white"
          },
          "hoverlabel": {
           "align": "left"
          },
          "hovermode": "closest",
          "mapbox": {
           "style": "light"
          },
          "paper_bgcolor": "white",
          "plot_bgcolor": "#E5ECF6",
          "polar": {
           "angularaxis": {
            "gridcolor": "white",
            "linecolor": "white",
            "ticks": ""
           },
           "bgcolor": "#E5ECF6",
           "radialaxis": {
            "gridcolor": "white",
            "linecolor": "white",
            "ticks": ""
           }
          },
          "scene": {
           "xaxis": {
            "backgroundcolor": "#E5ECF6",
            "gridcolor": "white",
            "gridwidth": 2,
            "linecolor": "white",
            "showbackground": true,
            "ticks": "",
            "zerolinecolor": "white"
           },
           "yaxis": {
            "backgroundcolor": "#E5ECF6",
            "gridcolor": "white",
            "gridwidth": 2,
            "linecolor": "white",
            "showbackground": true,
            "ticks": "",
            "zerolinecolor": "white"
           },
           "zaxis": {
            "backgroundcolor": "#E5ECF6",
            "gridcolor": "white",
            "gridwidth": 2,
            "linecolor": "white",
            "showbackground": true,
            "ticks": "",
            "zerolinecolor": "white"
           }
          },
          "shapedefaults": {
           "line": {
            "color": "#2a3f5f"
           }
          },
          "ternary": {
           "aaxis": {
            "gridcolor": "white",
            "linecolor": "white",
            "ticks": ""
           },
           "baxis": {
            "gridcolor": "white",
            "linecolor": "white",
            "ticks": ""
           },
           "bgcolor": "#E5ECF6",
           "caxis": {
            "gridcolor": "white",
            "linecolor": "white",
            "ticks": ""
           }
          },
          "title": {
           "x": 0.05
          },
          "xaxis": {
           "automargin": true,
           "gridcolor": "white",
           "linecolor": "white",
           "ticks": "",
           "title": {
            "standoff": 15
           },
           "zerolinecolor": "white",
           "zerolinewidth": 2
          },
          "yaxis": {
           "automargin": true,
           "gridcolor": "white",
           "linecolor": "white",
           "ticks": "",
           "title": {
            "standoff": 15
           },
           "zerolinecolor": "white",
           "zerolinewidth": 2
          }
         }
        },
        "title": {
         "text": "3D PCA Visualization of Word Embeddings"
        }
       }
      }
     },
     "metadata": {},
     "output_type": "display_data"
    }
   ],
   "source": [
    "# Assuming you have already filtered the DataFrame\n",
    "# and extracted the features\n",
    "\n",
    "# Apply PCA to reduce dimensions to 3\n",
    "pca = PCA(n_components=3)\n",
    "X_pca = pca.fit_transform(X)\n",
    "\n",
    "# Create a DataFrame for the PCA results\n",
    "pca_df = pd.DataFrame(X_pca, columns=['PC1', 'PC2', 'PC3'])\n",
    "pca_df['word'] = df_filtered['word'].values\n",
    "\n",
    "# Plot the results in 3D\n",
    "fig = px.scatter_3d(\n",
    "    pca_df, \n",
    "    x='PC1', \n",
    "    y='PC2', \n",
    "    z='PC3', \n",
    "    text='word', \n",
    "    title='3D PCA Visualization of Word Embeddings'\n",
    ")\n",
    "\n",
    "# Improve layout and appearance\n",
    "fig.update_traces(marker=dict(size=8), textposition='top center')\n",
    "fig.update_layout(\n",
    "    scene=dict(\n",
    "        xaxis_title='Principal Component 1',\n",
    "        yaxis_title='Principal Component 2',\n",
    "        zaxis_title='Principal Component 3'\n",
    "    ),\n",
    "    margin=dict(l=0, r=0, b=0, t=40)\n",
    ")\n",
    "\n",
    "fig.show()"
   ]
  },
  {
   "cell_type": "code",
   "execution_count": null,
   "metadata": {},
   "outputs": [],
   "source": []
  }
 ],
 "metadata": {
  "kernelspec": {
   "display_name": "venv",
   "language": "python",
   "name": "python3"
  },
  "language_info": {
   "codemirror_mode": {
    "name": "ipython",
    "version": 3
   },
   "file_extension": ".py",
   "mimetype": "text/x-python",
   "name": "python",
   "nbconvert_exporter": "python",
   "pygments_lexer": "ipython3",
   "version": "3.11.5"
  }
 },
 "nbformat": 4,
 "nbformat_minor": 2
}
