{
 "cells": [
  {
   "cell_type": "code",
   "execution_count": null,
   "metadata": {},
   "outputs": [],
   "source": [
    "import numpy as np\n",
    "\n",
    "# Define a list of words related to climate change\n",
    "words = [\"global warming\", \"carbon\", \n",
    "         \"emission\", \"temperature\", \"climate\", \"pollution\", \"environment\"]\n",
    "\n",
    "# Extract vectors for these words\n",
    "word_vectors = []\n",
    "for word in words:\n",
    "    if word in word2vec_model:\n",
    "        word_vectors.append(word2vec_model[word])\n",
    "    else:\n",
    "        print(f\"'{word}' not found in the vocabulary.\")\n",
    "        \n",
    "word_vectors = np.array(word_vectors)\n",
    "\n"
   ]
  },
  {
   "cell_type": "code",
   "execution_count": null,
   "metadata": {},
   "outputs": [],
   "source": [
    "from sklearn.decomposition import PCA\n",
    "\n",
    "# Apply PCA to reduce dimensions to 2\n",
    "pca = PCA(n_components=2)\n",
    "pca_result = pca.fit_transform(word_vectors)\n"
   ]
  },
  {
   "cell_type": "code",
   "execution_count": null,
   "metadata": {},
   "outputs": [],
   "source": [
    "from sklearn.manifold import TSNE\n",
    "\n",
    "# Apply t-SNE to further reduce to 2 dimensions\n",
    "tsne = TSNE(n_components=2, random_state=0)\n",
    "tsne_result = tsne.fit_transform(word_vectors)\n"
   ]
  },
  {
   "cell_type": "code",
   "execution_count": null,
   "metadata": {},
   "outputs": [],
   "source": [
    "import matplotlib.pyplot as plt\n",
    "\n",
    "# Plot the PCA results\n",
    "plt.figure(figsize=(12, 6))\n",
    "\n",
    "plt.subplot(1, 2, 1)\n",
    "plt.scatter(pca_result[:, 0], pca_result[:, 1])\n",
    "for i, word in enumerate(words):\n",
    "    plt.annotate(word, (pca_result[i, 0], pca_result[i, 1]))\n",
    "plt.title('PCA Result')\n",
    "\n",
    "# Plot the t-SNE results\n",
    "plt.subplot(1, 2, 2)\n",
    "plt.scatter(tsne_result[:, 0], tsne_result[:, 1])\n",
    "for i, word in enumerate(words):\n",
    "    plt.annotate(word, (tsne_result[i, 0], tsne_result[i, 1]))\n",
    "plt.title('t-SNE Result')\n",
    "\n",
    "plt.show()\n"
   ]
  },
  {
   "cell_type": "code",
   "execution_count": null,
   "metadata": {},
   "outputs": [],
   "source": [
    "# Vector arithmetic example: \"global warming\" - \"carbon\" + \"sustainability\"\n",
    "vector_result = word2vec_model[\"global warming\"] - word2vec_model[\"hate\"] + word2vec_model[\"sustainability\"]\n",
    "\n",
    "# Find the most similar words to the resulting vector\n",
    "similar_words = word2vec_model.most_similar(positive=[vector_result], topn=10)\n",
    "print(similar_words)\n"
   ]
  }
 ],
 "metadata": {
  "language_info": {
   "name": "python"
  }
 },
 "nbformat": 4,
 "nbformat_minor": 2
}
