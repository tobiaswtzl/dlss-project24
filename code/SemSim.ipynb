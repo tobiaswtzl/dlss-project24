{
 "cells": [
  {
   "cell_type": "markdown",
   "metadata": {},
   "source": [
    "##  PCA or T-SNE \n",
    "### Data dummies\n"
   ]
  },
  {
   "cell_type": "code",
   "execution_count": 230,
   "metadata": {},
   "outputs": [],
   "source": [
    "import numpy as np\n",
    "from sklearn.decomposition import PCA\n",
    "import matplotlib.pyplot as plt\n",
    "from sklearn.metrics.pairwise import cosine_similarity\n",
    "import pandas as pd\n",
    "import seaborn as sns\n",
    "from sklearn.preprocessing import StandardScaler\n",
    "import matplotlib.patheffects as PathEffects\n",
    "\n",
    "\n",
    "df_embeddings = pd.read_csv(\"/Users/fabianmahner/Downloads/embeddings_CBOW_all_2000.csv\")\n"
   ]
  },
  {
   "cell_type": "code",
   "execution_count": 231,
   "metadata": {},
   "outputs": [],
   "source": [
    "df_embeddings = df_embeddings.iloc[:,1:]"
   ]
  },
  {
   "cell_type": "code",
   "execution_count": 232,
   "metadata": {},
   "outputs": [
    {
     "data": {
      "text/html": [
       "<div>\n",
       "<style scoped>\n",
       "    .dataframe tbody tr th:only-of-type {\n",
       "        vertical-align: middle;\n",
       "    }\n",
       "\n",
       "    .dataframe tbody tr th {\n",
       "        vertical-align: top;\n",
       "    }\n",
       "\n",
       "    .dataframe thead th {\n",
       "        text-align: right;\n",
       "    }\n",
       "</style>\n",
       "<table border=\"1\" class=\"dataframe\">\n",
       "  <thead>\n",
       "    <tr style=\"text-align: right;\">\n",
       "      <th></th>\n",
       "      <th>word</th>\n",
       "      <th>0</th>\n",
       "      <th>1</th>\n",
       "      <th>2</th>\n",
       "      <th>3</th>\n",
       "      <th>4</th>\n",
       "      <th>5</th>\n",
       "      <th>6</th>\n",
       "      <th>7</th>\n",
       "      <th>8</th>\n",
       "      <th>...</th>\n",
       "      <th>990</th>\n",
       "      <th>991</th>\n",
       "      <th>992</th>\n",
       "      <th>993</th>\n",
       "      <th>994</th>\n",
       "      <th>995</th>\n",
       "      <th>996</th>\n",
       "      <th>997</th>\n",
       "      <th>998</th>\n",
       "      <th>999</th>\n",
       "    </tr>\n",
       "  </thead>\n",
       "  <tbody>\n",
       "    <tr>\n",
       "      <th>0</th>\n",
       "      <td>I</td>\n",
       "      <td>7.590919e-02</td>\n",
       "      <td>1.522252e-01</td>\n",
       "      <td>-7.296901e-02</td>\n",
       "      <td>-1.362623e-01</td>\n",
       "      <td>-1.512983e-01</td>\n",
       "      <td>-1.010329e-02</td>\n",
       "      <td>-2.651106e-02</td>\n",
       "      <td>-1.074874e-02</td>\n",
       "      <td>1.853046e-01</td>\n",
       "      <td>...</td>\n",
       "      <td>2.424871e-01</td>\n",
       "      <td>1.173413e-01</td>\n",
       "      <td>-7.170857e-02</td>\n",
       "      <td>-6.830373e-03</td>\n",
       "      <td>-8.763733e-03</td>\n",
       "      <td>2.955823e-03</td>\n",
       "      <td>2.396638e-01</td>\n",
       "      <td>4.053225e-03</td>\n",
       "      <td>-4.437260e-02</td>\n",
       "      <td>4.719551e-02</td>\n",
       "    </tr>\n",
       "    <tr>\n",
       "      <th>1</th>\n",
       "      <td>think</td>\n",
       "      <td>1.241171e-01</td>\n",
       "      <td>1.026601e-01</td>\n",
       "      <td>5.331656e-02</td>\n",
       "      <td>3.831034e-03</td>\n",
       "      <td>9.422549e-02</td>\n",
       "      <td>3.651541e-03</td>\n",
       "      <td>-3.357525e-03</td>\n",
       "      <td>-7.834332e-02</td>\n",
       "      <td>-2.757770e-01</td>\n",
       "      <td>...</td>\n",
       "      <td>-6.120160e-02</td>\n",
       "      <td>-2.091624e-01</td>\n",
       "      <td>-1.235119e-02</td>\n",
       "      <td>-9.014888e-02</td>\n",
       "      <td>9.537274e-02</td>\n",
       "      <td>-4.158557e-02</td>\n",
       "      <td>-1.386249e-01</td>\n",
       "      <td>-2.776899e-02</td>\n",
       "      <td>-1.338986e-01</td>\n",
       "      <td>5.025086e-02</td>\n",
       "    </tr>\n",
       "    <tr>\n",
       "      <th>2</th>\n",
       "      <td>you</td>\n",
       "      <td>5.503432e-02</td>\n",
       "      <td>2.114778e-01</td>\n",
       "      <td>4.648545e-02</td>\n",
       "      <td>-5.064499e-02</td>\n",
       "      <td>-2.270128e-01</td>\n",
       "      <td>-1.211586e-01</td>\n",
       "      <td>9.774652e-02</td>\n",
       "      <td>-1.673867e-02</td>\n",
       "      <td>1.585350e-01</td>\n",
       "      <td>...</td>\n",
       "      <td>1.310978e-01</td>\n",
       "      <td>1.520512e-01</td>\n",
       "      <td>-1.561932e-01</td>\n",
       "      <td>-5.139655e-03</td>\n",
       "      <td>8.808245e-02</td>\n",
       "      <td>-7.615295e-02</td>\n",
       "      <td>1.693522e-01</td>\n",
       "      <td>4.919219e-02</td>\n",
       "      <td>-3.547660e-02</td>\n",
       "      <td>1.864796e-02</td>\n",
       "    </tr>\n",
       "    <tr>\n",
       "      <th>3</th>\n",
       "      <td>go</td>\n",
       "      <td>1.652523e-02</td>\n",
       "      <td>9.940312e-02</td>\n",
       "      <td>2.052166e-02</td>\n",
       "      <td>-6.609263e-04</td>\n",
       "      <td>1.133120e-01</td>\n",
       "      <td>-8.719999e-02</td>\n",
       "      <td>5.663981e-03</td>\n",
       "      <td>-5.428351e-03</td>\n",
       "      <td>-4.845776e-02</td>\n",
       "      <td>...</td>\n",
       "      <td>-1.771291e-02</td>\n",
       "      <td>1.740042e-02</td>\n",
       "      <td>2.345619e-02</td>\n",
       "      <td>-6.385182e-02</td>\n",
       "      <td>1.728640e-02</td>\n",
       "      <td>-3.054161e-03</td>\n",
       "      <td>-1.042966e-02</td>\n",
       "      <td>-1.305990e-02</td>\n",
       "      <td>9.511017e-02</td>\n",
       "      <td>1.587488e-02</td>\n",
       "    </tr>\n",
       "    <tr>\n",
       "      <th>4</th>\n",
       "      <td>to</td>\n",
       "      <td>5.102863e-02</td>\n",
       "      <td>-7.061285e-01</td>\n",
       "      <td>-1.746409e-01</td>\n",
       "      <td>2.003406e-01</td>\n",
       "      <td>1.510255e-01</td>\n",
       "      <td>-4.693574e-02</td>\n",
       "      <td>2.438295e-01</td>\n",
       "      <td>6.347522e-02</td>\n",
       "      <td>7.148095e-02</td>\n",
       "      <td>...</td>\n",
       "      <td>6.506417e-02</td>\n",
       "      <td>1.946409e-01</td>\n",
       "      <td>-2.362106e-02</td>\n",
       "      <td>2.259979e-01</td>\n",
       "      <td>-2.074874e-01</td>\n",
       "      <td>-1.551597e-01</td>\n",
       "      <td>-2.753973e-01</td>\n",
       "      <td>-1.057928e-01</td>\n",
       "      <td>-1.934465e-01</td>\n",
       "      <td>-4.858161e-02</td>\n",
       "    </tr>\n",
       "    <tr>\n",
       "      <th>...</th>\n",
       "      <td>...</td>\n",
       "      <td>...</td>\n",
       "      <td>...</td>\n",
       "      <td>...</td>\n",
       "      <td>...</td>\n",
       "      <td>...</td>\n",
       "      <td>...</td>\n",
       "      <td>...</td>\n",
       "      <td>...</td>\n",
       "      <td>...</td>\n",
       "      <td>...</td>\n",
       "      <td>...</td>\n",
       "      <td>...</td>\n",
       "      <td>...</td>\n",
       "      <td>...</td>\n",
       "      <td>...</td>\n",
       "      <td>...</td>\n",
       "      <td>...</td>\n",
       "      <td>...</td>\n",
       "      <td>...</td>\n",
       "      <td>...</td>\n",
       "    </tr>\n",
       "    <tr>\n",
       "      <th>7063</th>\n",
       "      <td>revocation</td>\n",
       "      <td>1.357543e-05</td>\n",
       "      <td>-3.503262e-05</td>\n",
       "      <td>-8.231326e-04</td>\n",
       "      <td>3.301988e-04</td>\n",
       "      <td>-1.709957e-05</td>\n",
       "      <td>-3.190082e-04</td>\n",
       "      <td>1.341250e-04</td>\n",
       "      <td>1.379751e-03</td>\n",
       "      <td>1.019639e-03</td>\n",
       "      <td>...</td>\n",
       "      <td>-1.888998e-04</td>\n",
       "      <td>4.784938e-05</td>\n",
       "      <td>-3.376593e-04</td>\n",
       "      <td>-1.112021e-03</td>\n",
       "      <td>3.601007e-04</td>\n",
       "      <td>1.056930e-03</td>\n",
       "      <td>4.794874e-04</td>\n",
       "      <td>-5.575763e-04</td>\n",
       "      <td>-1.643760e-03</td>\n",
       "      <td>-1.374028e-03</td>\n",
       "    </tr>\n",
       "    <tr>\n",
       "      <th>7064</th>\n",
       "      <td>beata</td>\n",
       "      <td>-3.485900e-41</td>\n",
       "      <td>-3.497200e-41</td>\n",
       "      <td>3.484300e-41</td>\n",
       "      <td>3.466500e-41</td>\n",
       "      <td>3.458100e-41</td>\n",
       "      <td>3.451500e-41</td>\n",
       "      <td>-3.672400e-41</td>\n",
       "      <td>-3.467400e-41</td>\n",
       "      <td>-3.447500e-41</td>\n",
       "      <td>...</td>\n",
       "      <td>3.487000e-41</td>\n",
       "      <td>3.486300e-41</td>\n",
       "      <td>-3.562000e-41</td>\n",
       "      <td>3.512800e-41</td>\n",
       "      <td>-3.478900e-41</td>\n",
       "      <td>-3.465000e-41</td>\n",
       "      <td>-3.515300e-41</td>\n",
       "      <td>-3.790500e-41</td>\n",
       "      <td>-3.475200e-41</td>\n",
       "      <td>-3.473400e-41</td>\n",
       "    </tr>\n",
       "    <tr>\n",
       "      <th>7065</th>\n",
       "      <td>zhuangzi</td>\n",
       "      <td>-3.645422e-04</td>\n",
       "      <td>3.409918e-04</td>\n",
       "      <td>1.837284e-04</td>\n",
       "      <td>-6.139247e-05</td>\n",
       "      <td>-2.694621e-04</td>\n",
       "      <td>-1.516766e-04</td>\n",
       "      <td>3.335328e-04</td>\n",
       "      <td>2.263339e-03</td>\n",
       "      <td>2.498788e-03</td>\n",
       "      <td>...</td>\n",
       "      <td>3.619293e-04</td>\n",
       "      <td>7.463282e-04</td>\n",
       "      <td>9.848135e-05</td>\n",
       "      <td>1.320080e-04</td>\n",
       "      <td>7.271229e-05</td>\n",
       "      <td>-4.310948e-04</td>\n",
       "      <td>2.902481e-04</td>\n",
       "      <td>-7.029413e-05</td>\n",
       "      <td>-2.478789e-03</td>\n",
       "      <td>-3.212857e-04</td>\n",
       "    </tr>\n",
       "    <tr>\n",
       "      <th>7066</th>\n",
       "      <td>thesimpson</td>\n",
       "      <td>2.753051e-04</td>\n",
       "      <td>5.978251e-05</td>\n",
       "      <td>1.074415e-04</td>\n",
       "      <td>-1.260770e-05</td>\n",
       "      <td>-8.268288e-04</td>\n",
       "      <td>2.256150e-04</td>\n",
       "      <td>7.156780e-05</td>\n",
       "      <td>5.600244e-04</td>\n",
       "      <td>1.467248e-04</td>\n",
       "      <td>...</td>\n",
       "      <td>-4.268442e-04</td>\n",
       "      <td>-6.339191e-04</td>\n",
       "      <td>-3.378659e-04</td>\n",
       "      <td>-4.553061e-04</td>\n",
       "      <td>8.185502e-04</td>\n",
       "      <td>-2.357629e-04</td>\n",
       "      <td>8.658281e-05</td>\n",
       "      <td>-3.546356e-04</td>\n",
       "      <td>-1.404155e-03</td>\n",
       "      <td>2.296448e-04</td>\n",
       "    </tr>\n",
       "    <tr>\n",
       "      <th>7067</th>\n",
       "      <td>covaid</td>\n",
       "      <td>-9.178423e-05</td>\n",
       "      <td>2.829398e-04</td>\n",
       "      <td>1.387148e-04</td>\n",
       "      <td>1.103502e-04</td>\n",
       "      <td>-1.507227e-03</td>\n",
       "      <td>-1.945653e-04</td>\n",
       "      <td>5.217806e-04</td>\n",
       "      <td>8.752284e-04</td>\n",
       "      <td>2.724358e-04</td>\n",
       "      <td>...</td>\n",
       "      <td>-1.927465e-04</td>\n",
       "      <td>3.134920e-04</td>\n",
       "      <td>-4.716083e-04</td>\n",
       "      <td>1.854126e-04</td>\n",
       "      <td>-2.427673e-04</td>\n",
       "      <td>6.218645e-04</td>\n",
       "      <td>8.271583e-04</td>\n",
       "      <td>3.996212e-04</td>\n",
       "      <td>1.108513e-03</td>\n",
       "      <td>2.238818e-04</td>\n",
       "    </tr>\n",
       "  </tbody>\n",
       "</table>\n",
       "<p>7068 rows × 1001 columns</p>\n",
       "</div>"
      ],
      "text/plain": [
       "            word             0             1             2             3  \\\n",
       "0              I  7.590919e-02  1.522252e-01 -7.296901e-02 -1.362623e-01   \n",
       "1          think  1.241171e-01  1.026601e-01  5.331656e-02  3.831034e-03   \n",
       "2            you  5.503432e-02  2.114778e-01  4.648545e-02 -5.064499e-02   \n",
       "3             go  1.652523e-02  9.940312e-02  2.052166e-02 -6.609263e-04   \n",
       "4             to  5.102863e-02 -7.061285e-01 -1.746409e-01  2.003406e-01   \n",
       "...          ...           ...           ...           ...           ...   \n",
       "7063  revocation  1.357543e-05 -3.503262e-05 -8.231326e-04  3.301988e-04   \n",
       "7064       beata -3.485900e-41 -3.497200e-41  3.484300e-41  3.466500e-41   \n",
       "7065    zhuangzi -3.645422e-04  3.409918e-04  1.837284e-04 -6.139247e-05   \n",
       "7066  thesimpson  2.753051e-04  5.978251e-05  1.074415e-04 -1.260770e-05   \n",
       "7067      covaid -9.178423e-05  2.829398e-04  1.387148e-04  1.103502e-04   \n",
       "\n",
       "                 4             5             6             7             8  \\\n",
       "0    -1.512983e-01 -1.010329e-02 -2.651106e-02 -1.074874e-02  1.853046e-01   \n",
       "1     9.422549e-02  3.651541e-03 -3.357525e-03 -7.834332e-02 -2.757770e-01   \n",
       "2    -2.270128e-01 -1.211586e-01  9.774652e-02 -1.673867e-02  1.585350e-01   \n",
       "3     1.133120e-01 -8.719999e-02  5.663981e-03 -5.428351e-03 -4.845776e-02   \n",
       "4     1.510255e-01 -4.693574e-02  2.438295e-01  6.347522e-02  7.148095e-02   \n",
       "...            ...           ...           ...           ...           ...   \n",
       "7063 -1.709957e-05 -3.190082e-04  1.341250e-04  1.379751e-03  1.019639e-03   \n",
       "7064  3.458100e-41  3.451500e-41 -3.672400e-41 -3.467400e-41 -3.447500e-41   \n",
       "7065 -2.694621e-04 -1.516766e-04  3.335328e-04  2.263339e-03  2.498788e-03   \n",
       "7066 -8.268288e-04  2.256150e-04  7.156780e-05  5.600244e-04  1.467248e-04   \n",
       "7067 -1.507227e-03 -1.945653e-04  5.217806e-04  8.752284e-04  2.724358e-04   \n",
       "\n",
       "      ...           990           991           992           993  \\\n",
       "0     ...  2.424871e-01  1.173413e-01 -7.170857e-02 -6.830373e-03   \n",
       "1     ... -6.120160e-02 -2.091624e-01 -1.235119e-02 -9.014888e-02   \n",
       "2     ...  1.310978e-01  1.520512e-01 -1.561932e-01 -5.139655e-03   \n",
       "3     ... -1.771291e-02  1.740042e-02  2.345619e-02 -6.385182e-02   \n",
       "4     ...  6.506417e-02  1.946409e-01 -2.362106e-02  2.259979e-01   \n",
       "...   ...           ...           ...           ...           ...   \n",
       "7063  ... -1.888998e-04  4.784938e-05 -3.376593e-04 -1.112021e-03   \n",
       "7064  ...  3.487000e-41  3.486300e-41 -3.562000e-41  3.512800e-41   \n",
       "7065  ...  3.619293e-04  7.463282e-04  9.848135e-05  1.320080e-04   \n",
       "7066  ... -4.268442e-04 -6.339191e-04 -3.378659e-04 -4.553061e-04   \n",
       "7067  ... -1.927465e-04  3.134920e-04 -4.716083e-04  1.854126e-04   \n",
       "\n",
       "               994           995           996           997           998  \\\n",
       "0    -8.763733e-03  2.955823e-03  2.396638e-01  4.053225e-03 -4.437260e-02   \n",
       "1     9.537274e-02 -4.158557e-02 -1.386249e-01 -2.776899e-02 -1.338986e-01   \n",
       "2     8.808245e-02 -7.615295e-02  1.693522e-01  4.919219e-02 -3.547660e-02   \n",
       "3     1.728640e-02 -3.054161e-03 -1.042966e-02 -1.305990e-02  9.511017e-02   \n",
       "4    -2.074874e-01 -1.551597e-01 -2.753973e-01 -1.057928e-01 -1.934465e-01   \n",
       "...            ...           ...           ...           ...           ...   \n",
       "7063  3.601007e-04  1.056930e-03  4.794874e-04 -5.575763e-04 -1.643760e-03   \n",
       "7064 -3.478900e-41 -3.465000e-41 -3.515300e-41 -3.790500e-41 -3.475200e-41   \n",
       "7065  7.271229e-05 -4.310948e-04  2.902481e-04 -7.029413e-05 -2.478789e-03   \n",
       "7066  8.185502e-04 -2.357629e-04  8.658281e-05 -3.546356e-04 -1.404155e-03   \n",
       "7067 -2.427673e-04  6.218645e-04  8.271583e-04  3.996212e-04  1.108513e-03   \n",
       "\n",
       "               999  \n",
       "0     4.719551e-02  \n",
       "1     5.025086e-02  \n",
       "2     1.864796e-02  \n",
       "3     1.587488e-02  \n",
       "4    -4.858161e-02  \n",
       "...            ...  \n",
       "7063 -1.374028e-03  \n",
       "7064 -3.473400e-41  \n",
       "7065 -3.212857e-04  \n",
       "7066  2.296448e-04  \n",
       "7067  2.238818e-04  \n",
       "\n",
       "[7068 rows x 1001 columns]"
      ]
     },
     "execution_count": 232,
     "metadata": {},
     "output_type": "execute_result"
    }
   ],
   "source": [
    "df_embeddings"
   ]
  },
  {
   "cell_type": "markdown",
   "metadata": {},
   "source": [
    "## First PCA"
   ]
  },
  {
   "cell_type": "code",
   "execution_count": 233,
   "metadata": {},
   "outputs": [],
   "source": [
    "# Drop the non-numerical 'word' column\n",
    "X = df_embeddings.drop(columns=['word'])\n",
    "\n",
    "X_standardized = StandardScaler().fit_transform(X)"
   ]
  },
  {
   "cell_type": "code",
   "execution_count": 240,
   "metadata": {},
   "outputs": [
    {
     "data": {
      "image/png": "[encoded data removed]",
      "text/plain": [
       "<Figure size 1200x800 with 1 Axes>"
      ]
     },
     "metadata": {},
     "output_type": "display_data"
    }
   ],
   "source": [
    "# Perform PCA to reduce to 2 components\n",
    "pca = PCA(n_components=2)\n",
    "principal_components = pca.fit_transform(X_standardized)\n",
    "\n",
    "# Create a DataFrame with the PCA results\n",
    "pca_df = pd.DataFrame(data=principal_components, columns=['PC1', 'PC2'])\n",
    "\n",
    "# Add the 'word' column back for labeling\n",
    "pca_df['word'] = df_embeddings['word']\n",
    "\n",
    "# Specify the words you want to highlight\n",
    "highlight_words = [\"climate\",  \"trump\", \"greta\", \"xi\", \"emission\", \"carbon\"]\n",
    "\n",
    "# Filter the DataFrame to include only the selected words\n",
    "highlight_df = pca_df[pca_df['word'].isin(highlight_words)]\n",
    "\n",
    "# Plotting the PCA results\n",
    "plt.figure(figsize=(12, 8))\n",
    "sns.scatterplot(x='PC1', y='PC2', data=pca_df, color='gray', alpha=0.5)\n",
    "\n",
    "# Highlight the selected words in a different color\n",
    "sns.scatterplot(x='PC1', y='PC2', data=highlight_df, color='red')\n",
    "\n",
    "# Annotate the points with the selected word labels with improved styling\n",
    "for i in range(highlight_df.shape[0]):\n",
    "    txt = plt.text(x=highlight_df.PC1.iloc[i], y=highlight_df.PC2.iloc[i], s=highlight_df.word.iloc[i], \n",
    "                   fontdict=dict(color='black', size=12, weight='bold'))\n",
    "    \n",
    "    # Add a white outline to the text for better visibility\n",
    "    txt.set_path_effects([PathEffects.withStroke(linewidth=1, foreground='white')])\n",
    "plt.xlim(-20, 50)  # Example limits for PC1\n",
    "plt.ylim(-50, 50)  # Example limits for PC2\n",
    "plt.title('PCA of Word Embeddings with Selected Words Highlighted')\n",
    "plt.xlabel('Principal Component 1')\n",
    "plt.ylabel('Principal Component 2')\n",
    "plt.show()\n"
   ]
  },
  {
   "cell_type": "markdown",
   "metadata": {},
   "source": [
    "# Code"
   ]
  },
  {
   "cell_type": "code",
   "execution_count": 215,
   "metadata": {},
   "outputs": [
    {
     "data": {
      "image/png": "[encoded data removed]",
      "text/plain": [
       "<Figure size 1000x700 with 1 Axes>"
      ]
     },
     "metadata": {},
     "output_type": "display_data"
    }
   ],
   "source": [
    "# List of words you want to visualize\n",
    "words_to_visualize = [\"carbon\", \"emission\", \"greenhouse\", \"flood\", \"drought\", \"theory\", \n",
    "                       \"xi\", \"greta\",  \"conspiracy\", \"donald\"]\n",
    "\n",
    "# Filter the dataframe for those words\n",
    "df_filtered = df_embeddings[df_embeddings['word'].isin(words_to_visualize)]\n",
    "\n",
    "# Extract the features for PCA\n",
    "X = df_filtered.drop(columns=['word'])\n",
    "\n",
    "# Apply PCA to reduce dimensions to 2\n",
    "pca = PCA(n_components=2)\n",
    "X_pca = pca.fit_transform(X)\n",
    "\n",
    "# Create a DataFrame for the PCA results\n",
    "pca_df = pd.DataFrame(X_pca, columns=['PC1', 'PC2'])\n",
    "pca_df['word'] = df_filtered['word'].values\n",
    "\n",
    "# Plot the results\n",
    "plt.figure(figsize=(10, 7))\n",
    "for i, word in enumerate(pca_df['word']):\n",
    "    plt.scatter(pca_df['PC1'].iloc[i], pca_df['PC2'].iloc[i], label=word)\n",
    "    plt.text(pca_df['PC1'].iloc[i] + 0.01, pca_df['PC2'].iloc[i] + 0.01, word, fontsize=12)\n",
    "\n",
    "plt.title('PCA Visualization of Word Embeddings')\n",
    "plt.xlabel('Principal Component 1')\n",
    "plt.ylabel('Principal Component 2')\n",
    "#plt.legend()\n",
    "plt.grid(True)\n",
    "plt.show()"
   ]
  },
  {
   "cell_type": "markdown",
   "metadata": {},
   "source": [
    "## Cosine similarity"
   ]
  },
  {
   "cell_type": "code",
   "execution_count": 216,
   "metadata": {},
   "outputs": [
    {
     "name": "stdout",
     "output_type": "stream",
     "text": [
      "Words similar to 'donald':\n",
      "joe: 0.8272\n",
      "falsely: 0.8135\n",
      "etc: 0.8128\n",
      "\n",
      "\n",
      "Words similar to 'xi':\n",
      "independence: 0.8021\n",
      "amp: 0.7950\n",
      "estate: 0.7919\n",
      "\n",
      "\n"
     ]
    }
   ],
   "source": [
    "from sklearn.metrics.pairwise import cosine_similarity\n",
    "import numpy as np\n",
    "\n",
    "# Function to find the most similar words to a given word\n",
    "def find_similar_words(word, word_embeddings, top_n=10):\n",
    "    word_vector = word_embeddings.loc[word].values.reshape(1, -1)\n",
    "    similarities = cosine_similarity(word_vector, word_embeddings)\n",
    "    similarities = similarities.flatten()\n",
    "    most_similar_indices = np.argsort(similarities)[::-1][1:top_n+1]\n",
    "    similar_words = word_embeddings.index[most_similar_indices]\n",
    "    return similar_words, similarities[most_similar_indices]\n",
    "\n",
    "# Filter word embeddings to include only the relevant words\n",
    "climate_terms = [\"donald\", \"xi\"]\n",
    "\n",
    "similar_words_dict = {}\n",
    "for term in climate_terms:\n",
    "    similar_words, similarities = find_similar_words(term, df_embeddings.set_index('word'), top_n=3)\n",
    "    similar_words_dict[term] = list(zip(similar_words, similarities))\n",
    "\n",
    "# Display similar words for each climate term\n",
    "for term, similar_words in similar_words_dict.items():\n",
    "    print(f\"Words similar to '{term}':\")\n",
    "    for word, similarity in similar_words:\n",
    "        print(f\"{word}: {similarity:.4f}\")\n",
    "    print(\"\\n\")\n"
   ]
  },
  {
   "cell_type": "code",
   "execution_count": 217,
   "metadata": {},
   "outputs": [
    {
     "name": "stdout",
     "output_type": "stream",
     "text": [
      "Cosine similarity between 'donald' and 'xi': 0.744665802919237\n"
     ]
    }
   ],
   "source": [
    "def cosine_similarity_between_words(word1, word2, word_embeddings):\n",
    "    # Get the embeddings for the two words\n",
    "    try:\n",
    "        vector1 = word_embeddings.loc[word1].values.reshape(1, -1)\n",
    "        vector2 = word_embeddings.loc[word2].values.reshape(1, -1)\n",
    "    except KeyError as e:\n",
    "        print(f\"Error: {e}\")\n",
    "        return None\n",
    "    \n",
    "    # Check if the vectors are identical (which would yield a similarity of 1.0)\n",
    "    if np.array_equal(vector1, vector2):\n",
    "        print(f\"Warning: The vectors for '{word1}' and '{word2}' are identical.\")\n",
    "    \n",
    "    # Compute the cosine similarity\n",
    "    similarity = cosine_similarity(vector1, vector2)\n",
    "    \n",
    "    return similarity[0][0]\n",
    "\n",
    "# Example usage:\n",
    "word1 = \"donald\"\n",
    "word2 = \"xi\"\n",
    "\n",
    "# Assuming df_embeddings is a DataFrame with words as the index and embeddings as the columns\n",
    "similarity = cosine_similarity_between_words(word1, word2, df_embeddings.set_index('word'))\n",
    "\n",
    "print(f\"Cosine similarity between '{word1}' and '{word2}': {similarity}\")\n",
    "\n"
   ]
  },
  {
   "cell_type": "code",
   "execution_count": 218,
   "metadata": {},
   "outputs": [
    {
     "data": {
      "image/png": "[encoded data removed]",
      "text/plain": [
       "<Figure size 1200x800 with 1 Axes>"
      ]
     },
     "metadata": {},
     "output_type": "display_data"
    }
   ],
   "source": [
    "# Assuming you want to visualize the similar words in the same PCA space\n",
    "similar_words_to_add = [word for sublist in similar_words_dict.values() for word, _ in sublist]\n",
    "df_similar_filtered = df_embeddings[df_embeddings['word'].isin(similar_words_to_add)]\n",
    "\n",
    "# Combine with your original PCA data\n",
    "df_combined = pd.concat([df_filtered, df_similar_filtered])\n",
    "\n",
    "# Perform PCA on the combined dataset\n",
    "X_combined = df_combined.drop(columns=['word'])\n",
    "X_combined_pca = pca.fit_transform(X_combined)\n",
    "\n",
    "# Create a new DataFrame for PCA results\n",
    "pca_df_combined = pd.DataFrame(X_combined_pca, columns=['PC1', 'PC2'])\n",
    "pca_df_combined['word'] = df_combined['word'].values\n",
    "\n",
    "# Plot the results\n",
    "plt.figure(figsize=(12, 8))\n",
    "for i, word in enumerate(pca_df_combined['word']):\n",
    "    plt.scatter(pca_df_combined['PC1'].iloc[i], pca_df_combined['PC2'].iloc[i], label=word)\n",
    "    plt.text(pca_df_combined['PC1'].iloc[i] + 0.01, pca_df_combined['PC2'].iloc[i] + 0.01, word, fontsize=12)\n",
    "\n",
    "plt.title('PCA Visualization of Word Embeddings with Similar Words')\n",
    "plt.xlabel('Principal Component 1')\n",
    "plt.ylabel('Principal Component 2')\n",
    "plt.legend()\n",
    "plt.grid(True)\n",
    "plt.show()\n"
   ]
  },
  {
   "cell_type": "code",
   "execution_count": 219,
   "metadata": {},
   "outputs": [
    {
     "data": {
      "application/vnd.plotly.v1+json": {
       "config": {
        "plotlyServerURL": "https://plot.ly"
       },
       "data": [
        {
         "hovertemplate": "PC1=%{x}<br>PC2=%{y}<br>PC3=%{z}<br>word=%{text}<extra></extra>",
         "legendgroup": "",
         "marker": {
          "color": "#636efa",
          "size": 8,
          "symbol": "circle"
         },
         "mode": "markers+text",
         "name": "",
         "scene": "scene",
         "showlegend": false,
         "text": [
          "conspiracy",
          "greta",
          "carbon",
          "emission",
          "greenhouse",
          "xi",
          "theory",
          "drought",
          "flood",
          "donald"
         ],
         "textposition": "top center",
         "type": "scatter3d",
         "x": [
          -0.31072317972672897,
          -0.2576606505318143,
          0.3805535164600493,
          0.714557740551374,
          0.48486000620043795,
          -0.26202765592284777,
          -0.2465514832538263,
          -0.11536038554336235,
          -0.19067911159758805,
          -0.196968796635694
         ],
         "y": [
          -0.1142590428097283,
          0.07875761781879737,
          -0.36380353618685823,
          0.24075023377340302,
          -0.026785044817033903,
          0.0515064959779303,
          -0.014691819681505076,
          0.039559161672883224,
          0.014922911851328642,
          0.09404302240078283
         ],
         "z": [
          -0.00035695574916083206,
          -0.009443235070995407,
          0.10579231823442017,
          0.17965951142000988,
          -0.3194139134509112,
          -0.021224046708250004,
          0.15628079171781153,
          -0.017768303523317767,
          0.020364948437177247,
          -0.09389111530678391
         ]
        }
       ],
       "layout": {
        "legend": {
         "tracegroupgap": 0
        },
        "margin": {
         "b": 0,
         "l": 0,
         "r": 0,
         "t": 40
        },
        "scene": {
         "domain": {
          "x": [
           0,
           1
          ],
          "y": [
           0,
           1
          ]
         },
         "xaxis": {
          "title": {
           "text": "Principal Component 1"
          }
         },
         "yaxis": {
          "title": {
           "text": "Principal Component 2"
          }
         },
         "zaxis": {
          "title": {
           "text": "Principal Component 3"
          }
         }
        },
        "template": {
         "data": {
          "bar": [
           {
            "error_x": {
             "color": "#2a3f5f"
            },
            "error_y": {
             "color": "#2a3f5f"
            },
            "marker": {
             "line": {
              "color": "#E5ECF6",
              "width": 0.5
             },
             "pattern": {
              "fillmode": "overlay",
              "size": 10,
              "solidity": 0.2
             }
            },
            "type": "bar"
           }
          ],
          "barpolar": [
           {
            "marker": {
             "line": {
              "color": "#E5ECF6",
              "width": 0.5
             },
             "pattern": {
              "fillmode": "overlay",
              "size": 10,
              "solidity": 0.2
             }
            },
            "type": "barpolar"
           }
          ],
          "carpet": [
           {
            "aaxis": {
             "endlinecolor": "#2a3f5f",
             "gridcolor": "white",
             "linecolor": "white",
             "minorgridcolor": "white",
             "startlinecolor": "#2a3f5f"
            },
            "baxis": {
             "endlinecolor": "#2a3f5f",
             "gridcolor": "white",
             "linecolor": "white",
             "minorgridcolor": "white",
             "startlinecolor": "#2a3f5f"
            },
            "type": "carpet"
           }
          ],
          "choropleth": [
           {
            "colorbar": {
             "outlinewidth": 0,
             "ticks": ""
            },
            "type": "choropleth"
           }
          ],
          "contour": [
           {
            "colorbar": {
             "outlinewidth": 0,
             "ticks": ""
            },
            "colorscale": [
             [
              0,
              "#0d0887"
             ],
             [
              0.1111111111111111,
              "#46039f"
             ],
             [
              0.2222222222222222,
              "#7201a8"
             ],
             [
              0.3333333333333333,
              "#9c179e"
             ],
             [
              0.4444444444444444,
              "#bd3786"
             ],
             [
              0.5555555555555556,
              "#d8576b"
             ],
             [
              0.6666666666666666,
              "#ed7953"
             ],
             [
              0.7777777777777778,
              "#fb9f3a"
             ],
             [
              0.8888888888888888,
              "#fdca26"
             ],
             [
              1,
              "#f0f921"
             ]
            ],
            "type": "contour"
           }
          ],
          "contourcarpet": [
           {
            "colorbar": {
             "outlinewidth": 0,
             "ticks": ""
            },
            "type": "contourcarpet"
           }
          ],
          "heatmap": [
           {
            "colorbar": {
             "outlinewidth": 0,
             "ticks": ""
            },
            "colorscale": [
             [
              0,
              "#0d0887"
             ],
             [
              0.1111111111111111,
              "#46039f"
             ],
             [
              0.2222222222222222,
              "#7201a8"
             ],
             [
              0.3333333333333333,
              "#9c179e"
             ],
             [
              0.4444444444444444,
              "#bd3786"
             ],
             [
              0.5555555555555556,
              "#d8576b"
             ],
             [
              0.6666666666666666,
              "#ed7953"
             ],
             [
              0.7777777777777778,
              "#fb9f3a"
             ],
             [
              0.8888888888888888,
              "#fdca26"
             ],
             [
              1,
              "#f0f921"
             ]
            ],
            "type": "heatmap"
           }
          ],
          "heatmapgl": [
           {
            "colorbar": {
             "outlinewidth": 0,
             "ticks": ""
            },
            "colorscale": [
             [
              0,
              "#0d0887"
             ],
             [
              0.1111111111111111,
              "#46039f"
             ],
             [
              0.2222222222222222,
              "#7201a8"
             ],
             [
              0.3333333333333333,
              "#9c179e"
             ],
             [
              0.4444444444444444,
              "#bd3786"
             ],
             [
              0.5555555555555556,
              "#d8576b"
             ],
             [
              0.6666666666666666,
              "#ed7953"
             ],
             [
              0.7777777777777778,
              "#fb9f3a"
             ],
             [
              0.8888888888888888,
              "#fdca26"
             ],
             [
              1,
              "#f0f921"
             ]
            ],
            "type": "heatmapgl"
           }
          ],
          "histogram": [
           {
            "marker": {
             "pattern": {
              "fillmode": "overlay",
              "size": 10,
              "solidity": 0.2
             }
            },
            "type": "histogram"
           }
          ],
          "histogram2d": [
           {
            "colorbar": {
             "outlinewidth": 0,
             "ticks": ""
            },
            "colorscale": [
             [
              0,
              "#0d0887"
             ],
             [
              0.1111111111111111,
              "#46039f"
             ],
             [
              0.2222222222222222,
              "#7201a8"
             ],
             [
              0.3333333333333333,
              "#9c179e"
             ],
             [
              0.4444444444444444,
              "#bd3786"
             ],
             [
              0.5555555555555556,
              "#d8576b"
             ],
             [
              0.6666666666666666,
              "#ed7953"
             ],
             [
              0.7777777777777778,
              "#fb9f3a"
             ],
             [
              0.8888888888888888,
              "#fdca26"
             ],
             [
              1,
              "#f0f921"
             ]
            ],
            "type": "histogram2d"
           }
          ],
          "histogram2dcontour": [
           {
            "colorbar": {
             "outlinewidth": 0,
             "ticks": ""
            },
            "colorscale": [
             [
              0,
              "#0d0887"
             ],
             [
              0.1111111111111111,
              "#46039f"
             ],
             [
              0.2222222222222222,
              "#7201a8"
             ],
             [
              0.3333333333333333,
              "#9c179e"
             ],
             [
              0.4444444444444444,
              "#bd3786"
             ],
             [
              0.5555555555555556,
              "#d8576b"
             ],
             [
              0.6666666666666666,
              "#ed7953"
             ],
             [
              0.7777777777777778,
              "#fb9f3a"
             ],
             [
              0.8888888888888888,
              "#fdca26"
             ],
             [
              1,
              "#f0f921"
             ]
            ],
            "type": "histogram2dcontour"
           }
          ],
          "mesh3d": [
           {
            "colorbar": {
             "outlinewidth": 0,
             "ticks": ""
            },
            "type": "mesh3d"
           }
          ],
          "parcoords": [
           {
            "line": {
             "colorbar": {
              "outlinewidth": 0,
              "ticks": ""
             }
            },
            "type": "parcoords"
           }
          ],
          "pie": [
           {
            "automargin": true,
            "type": "pie"
           }
          ],
          "scatter": [
           {
            "fillpattern": {
             "fillmode": "overlay",
             "size": 10,
             "solidity": 0.2
            },
            "type": "scatter"
           }
          ],
          "scatter3d": [
           {
            "line": {
             "colorbar": {
              "outlinewidth": 0,
              "ticks": ""
             }
            },
            "marker": {
             "colorbar": {
              "outlinewidth": 0,
              "ticks": ""
             }
            },
            "type": "scatter3d"
           }
          ],
          "scattercarpet": [
           {
            "marker": {
             "colorbar": {
              "outlinewidth": 0,
              "ticks": ""
             }
            },
            "type": "scattercarpet"
           }
          ],
          "scattergeo": [
           {
            "marker": {
             "colorbar": {
              "outlinewidth": 0,
              "ticks": ""
             }
            },
            "type": "scattergeo"
           }
          ],
          "scattergl": [
           {
            "marker": {
             "colorbar": {
              "outlinewidth": 0,
              "ticks": ""
             }
            },
            "type": "scattergl"
           }
          ],
          "scattermapbox": [
           {
            "marker": {
             "colorbar": {
              "outlinewidth": 0,
              "ticks": ""
             }
            },
            "type": "scattermapbox"
           }
          ],
          "scatterpolar": [
           {
            "marker": {
             "colorbar": {
              "outlinewidth": 0,
              "ticks": ""
             }
            },
            "type": "scatterpolar"
           }
          ],
          "scatterpolargl": [
           {
            "marker": {
             "colorbar": {
              "outlinewidth": 0,
              "ticks": ""
             }
            },
            "type": "scatterpolargl"
           }
          ],
          "scatterternary": [
           {
            "marker": {
             "colorbar": {
              "outlinewidth": 0,
              "ticks": ""
             }
            },
            "type": "scatterternary"
           }
          ],
          "surface": [
           {
            "colorbar": {
             "outlinewidth": 0,
             "ticks": ""
            },
            "colorscale": [
             [
              0,
              "#0d0887"
             ],
             [
              0.1111111111111111,
              "#46039f"
             ],
             [
              0.2222222222222222,
              "#7201a8"
             ],
             [
              0.3333333333333333,
              "#9c179e"
             ],
             [
              0.4444444444444444,
              "#bd3786"
             ],
             [
              0.5555555555555556,
              "#d8576b"
             ],
             [
              0.6666666666666666,
              "#ed7953"
             ],
             [
              0.7777777777777778,
              "#fb9f3a"
             ],
             [
              0.8888888888888888,
              "#fdca26"
             ],
             [
              1,
              "#f0f921"
             ]
            ],
            "type": "surface"
           }
          ],
          "table": [
           {
            "cells": {
             "fill": {
              "color": "#EBF0F8"
             },
             "line": {
              "color": "white"
             }
            },
            "header": {
             "fill": {
              "color": "#C8D4E3"
             },
             "line": {
              "color": "white"
             }
            },
            "type": "table"
           }
          ]
         },
         "layout": {
          "annotationdefaults": {
           "arrowcolor": "#2a3f5f",
           "arrowhead": 0,
           "arrowwidth": 1
          },
          "autotypenumbers": "strict",
          "coloraxis": {
           "colorbar": {
            "outlinewidth": 0,
            "ticks": ""
           }
          },
          "colorscale": {
           "diverging": [
            [
             0,
             "#8e0152"
            ],
            [
             0.1,
             "#c51b7d"
            ],
            [
             0.2,
             "#de77ae"
            ],
            [
             0.3,
             "#f1b6da"
            ],
            [
             0.4,
             "#fde0ef"
            ],
            [
             0.5,
             "#f7f7f7"
            ],
            [
             0.6,
             "#e6f5d0"
            ],
            [
             0.7,
             "#b8e186"
            ],
            [
             0.8,
             "#7fbc41"
            ],
            [
             0.9,
             "#4d9221"
            ],
            [
             1,
             "#276419"
            ]
           ],
           "sequential": [
            [
             0,
             "#0d0887"
            ],
            [
             0.1111111111111111,
             "#46039f"
            ],
            [
             0.2222222222222222,
             "#7201a8"
            ],
            [
             0.3333333333333333,
             "#9c179e"
            ],
            [
             0.4444444444444444,
             "#bd3786"
            ],
            [
             0.5555555555555556,
             "#d8576b"
            ],
            [
             0.6666666666666666,
             "#ed7953"
            ],
            [
             0.7777777777777778,
             "#fb9f3a"
            ],
            [
             0.8888888888888888,
             "#fdca26"
            ],
            [
             1,
             "#f0f921"
            ]
           ],
           "sequentialminus": [
            [
             0,
             "#0d0887"
            ],
            [
             0.1111111111111111,
             "#46039f"
            ],
            [
             0.2222222222222222,
             "#7201a8"
            ],
            [
             0.3333333333333333,
             "#9c179e"
            ],
            [
             0.4444444444444444,
             "#bd3786"
            ],
            [
             0.5555555555555556,
             "#d8576b"
            ],
            [
             0.6666666666666666,
             "#ed7953"
            ],
            [
             0.7777777777777778,
             "#fb9f3a"
            ],
            [
             0.8888888888888888,
             "#fdca26"
            ],
            [
             1,
             "#f0f921"
            ]
           ]
          },
          "colorway": [
           "#636efa",
           "#EF553B",
           "#00cc96",
           "#ab63fa",
           "#FFA15A",
           "#19d3f3",
           "#FF6692",
           "#B6E880",
           "#FF97FF",
           "#FECB52"
          ],
          "font": {
           "color": "#2a3f5f"
          },
          "geo": {
           "bgcolor": "white",
           "lakecolor": "white",
           "landcolor": "#E5ECF6",
           "showlakes": true,
           "showland": true,
           "subunitcolor": "white"
          },
          "hoverlabel": {
           "align": "left"
          },
          "hovermode": "closest",
          "mapbox": {
           "style": "light"
          },
          "paper_bgcolor": "white",
          "plot_bgcolor": "#E5ECF6",
          "polar": {
           "angularaxis": {
            "gridcolor": "white",
            "linecolor": "white",
            "ticks": ""
           },
           "bgcolor": "#E5ECF6",
           "radialaxis": {
            "gridcolor": "white",
            "linecolor": "white",
            "ticks": ""
           }
          },
          "scene": {
           "xaxis": {
            "backgroundcolor": "#E5ECF6",
            "gridcolor": "white",
            "gridwidth": 2,
            "linecolor": "white",
            "showbackground": true,
            "ticks": "",
            "zerolinecolor": "white"
           },
           "yaxis": {
            "backgroundcolor": "#E5ECF6",
            "gridcolor": "white",
            "gridwidth": 2,
            "linecolor": "white",
            "showbackground": true,
            "ticks": "",
            "zerolinecolor": "white"
           },
           "zaxis": {
            "backgroundcolor": "#E5ECF6",
            "gridcolor": "white",
            "gridwidth": 2,
            "linecolor": "white",
            "showbackground": true,
            "ticks": "",
            "zerolinecolor": "white"
           }
          },
          "shapedefaults": {
           "line": {
            "color": "#2a3f5f"
           }
          },
          "ternary": {
           "aaxis": {
            "gridcolor": "white",
            "linecolor": "white",
            "ticks": ""
           },
           "baxis": {
            "gridcolor": "white",
            "linecolor": "white",
            "ticks": ""
           },
           "bgcolor": "#E5ECF6",
           "caxis": {
            "gridcolor": "white",
            "linecolor": "white",
            "ticks": ""
           }
          },
          "title": {
           "x": 0.05
          },
          "xaxis": {
           "automargin": true,
           "gridcolor": "white",
           "linecolor": "white",
           "ticks": "",
           "title": {
            "standoff": 15
           },
           "zerolinecolor": "white",
           "zerolinewidth": 2
          },
          "yaxis": {
           "automargin": true,
           "gridcolor": "white",
           "linecolor": "white",
           "ticks": "",
           "title": {
            "standoff": 15
           },
           "zerolinecolor": "white",
           "zerolinewidth": 2
          }
         }
        },
        "title": {
         "text": "3D PCA Visualization of Word Embeddings"
        }
       }
      }
     },
     "metadata": {},
     "output_type": "display_data"
    }
   ],
   "source": [
    "import pandas as pd\n",
    "from sklearn.decomposition import PCA\n",
    "import plotly.express as px\n",
    "\n",
    "# Assuming you have already filtered the DataFrame\n",
    "# and extracted the features\n",
    "\n",
    "# Apply PCA to reduce dimensions to 3\n",
    "pca = PCA(n_components=3)\n",
    "X_pca = pca.fit_transform(X)\n",
    "\n",
    "# Create a DataFrame for the PCA results\n",
    "pca_df = pd.DataFrame(X_pca, columns=['PC1', 'PC2', 'PC3'])\n",
    "pca_df['word'] = df_filtered['word'].values\n",
    "\n",
    "# Plot the results in 3D\n",
    "fig = px.scatter_3d(\n",
    "    pca_df, \n",
    "    x='PC1', \n",
    "    y='PC2', \n",
    "    z='PC3', \n",
    "    text='word', \n",
    "    title='3D PCA Visualization of Word Embeddings'\n",
    ")\n",
    "\n",
    "# Improve layout and appearance\n",
    "fig.update_traces(marker=dict(size=8), textposition='top center')\n",
    "fig.update_layout(\n",
    "    scene=dict(\n",
    "        xaxis_title='Principal Component 1',\n",
    "        yaxis_title='Principal Component 2',\n",
    "        zaxis_title='Principal Component 3'\n",
    "    ),\n",
    "    margin=dict(l=0, r=0, b=0, t=40)\n",
    ")\n",
    "\n",
    "fig.show()"
   ]
  },
  {
   "cell_type": "code",
   "execution_count": null,
   "metadata": {},
   "outputs": [],
   "source": []
  }
 ],
 "metadata": {
  "kernelspec": {
   "display_name": "venv",
   "language": "python",
   "name": "python3"
  },
  "language_info": {
   "codemirror_mode": {
    "name": "ipython",
    "version": 3
   },
   "file_extension": ".py",
   "mimetype": "text/x-python",
   "name": "python",
   "nbconvert_exporter": "python",
   "pygments_lexer": "ipython3",
   "version": "3.11.5"
  }
 },
 "nbformat": 4,
 "nbformat_minor": 2
}
