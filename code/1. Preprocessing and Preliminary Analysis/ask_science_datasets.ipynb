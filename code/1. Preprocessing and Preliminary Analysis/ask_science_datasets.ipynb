{
 "cells": [
  {
   "cell_type": "code",
   "execution_count": 7,
   "metadata": {},
   "outputs": [],
   "source": [
    "import pandas as pd"
   ]
  },
  {
   "cell_type": "code",
   "execution_count": 8,
   "metadata": {},
   "outputs": [],
   "source": [
    "preprocessed_posts = pd.read_csv('c:/Users/Jannik Wirtheim/OneDrive/Dokumente/Privat/Bildung/M. Sc. Social and Economic Data Science/2. Semester/Deep Learning for Social Sciences/Project/data/preprocessed_posts.csv')\n",
    "raw_posts = pd.read_csv('c:/Users/Jannik Wirtheim/OneDrive/Dokumente/Privat/Bildung/M. Sc. Social and Economic Data Science/2. Semester/Deep Learning for Social Sciences/Project/data/raw_posts.csv')"
   ]
  },
  {
   "cell_type": "code",
   "execution_count": 11,
   "metadata": {},
   "outputs": [
    {
     "name": "stderr",
     "output_type": "stream",
     "text": [
      "C:\\Users\\Jannik Wirtheim\\AppData\\Local\\Temp\\ipykernel_19356\\3878082095.py:6: SettingWithCopyWarning: \n",
      "A value is trying to be set on a copy of a slice from a DataFrame\n",
      "\n",
      "See the caveats in the documentation: https://pandas.pydata.org/pandas-docs/stable/user_guide/indexing.html#returning-a-view-versus-a-copy\n",
      "  ask_science.drop(columns=['subreddit.id', 'subreddit.name'], inplace=True)\n",
      "C:\\Users\\Jannik Wirtheim\\AppData\\Local\\Temp\\ipykernel_19356\\3878082095.py:10: SettingWithCopyWarning: \n",
      "A value is trying to be set on a copy of a slice from a DataFrame\n",
      "\n",
      "See the caveats in the documentation: https://pandas.pydata.org/pandas-docs/stable/user_guide/indexing.html#returning-a-view-versus-a-copy\n",
      "  not_ask_science.drop(columns=['subreddit.id', 'subreddit.name'], inplace=True)\n"
     ]
    }
   ],
   "source": [
    "# Merge subreddit name and id on preprocessed data to filter them\n",
    "sub_posts = preprocessed_posts.merge(raw_posts[['id', 'subreddit.id', 'subreddit.name']], on='id', how='left')\n",
    "\n",
    "ask_science = sub_posts[sub_posts['subreddit.name'] == 'askscience']\n",
    "ask_science.reset_index(drop=True, inplace=True)\n",
    "ask_science.drop(columns=['subreddit.id', 'subreddit.name'], inplace=True)\n",
    "\n",
    "not_ask_science = sub_posts[sub_posts['subreddit.name'] != 'askscience']\n",
    "not_ask_science.reset_index(drop=True, inplace=True)\n",
    "not_ask_science.drop(columns=['subreddit.id', 'subreddit.name'], inplace=True)"
   ]
  },
  {
   "cell_type": "code",
   "execution_count": 14,
   "metadata": {},
   "outputs": [],
   "source": [
    "# Merge the year on the prerocessed data to filter them\n",
    "yearly_ask_science = ask_science.merge(raw_posts[['id', 'created_utc']], on='id', how='left')\n",
    "yearly_not_ask_science = not_ask_science.merge(raw_posts[['id', 'created_utc']], on='id', how='left')\n",
    "\n",
    "\n",
    "# Convert date code into readable date\n",
    "yearly_ask_science[\"created_utc\"] = pd.to_datetime(yearly_ask_science[\"created_utc\"], unit='s').dt.year\n",
    "yearly_not_ask_science[\"created_utc\"] = pd.to_datetime(yearly_not_ask_science[\"created_utc\"], unit='s').dt.year"
   ]
  },
  {
   "cell_type": "code",
   "execution_count": 17,
   "metadata": {},
   "outputs": [
    {
     "name": "stderr",
     "output_type": "stream",
     "text": [
      "C:\\Users\\Jannik Wirtheim\\AppData\\Local\\Temp\\ipykernel_19356\\3433722766.py:9: SettingWithCopyWarning: \n",
      "A value is trying to be set on a copy of a slice from a DataFrame\n",
      "\n",
      "See the caveats in the documentation: https://pandas.pydata.org/pandas-docs/stable/user_guide/indexing.html#returning-a-view-versus-a-copy\n",
      "  yearly_science_data.drop(columns=['created_utc'], inplace=True)\n",
      "C:\\Users\\Jannik Wirtheim\\AppData\\Local\\Temp\\ipykernel_19356\\3433722766.py:9: SettingWithCopyWarning: \n",
      "A value is trying to be set on a copy of a slice from a DataFrame\n",
      "\n",
      "See the caveats in the documentation: https://pandas.pydata.org/pandas-docs/stable/user_guide/indexing.html#returning-a-view-versus-a-copy\n",
      "  yearly_science_data.drop(columns=['created_utc'], inplace=True)\n",
      "C:\\Users\\Jannik Wirtheim\\AppData\\Local\\Temp\\ipykernel_19356\\3433722766.py:9: SettingWithCopyWarning: \n",
      "A value is trying to be set on a copy of a slice from a DataFrame\n",
      "\n",
      "See the caveats in the documentation: https://pandas.pydata.org/pandas-docs/stable/user_guide/indexing.html#returning-a-view-versus-a-copy\n",
      "  yearly_science_data.drop(columns=['created_utc'], inplace=True)\n",
      "C:\\Users\\Jannik Wirtheim\\AppData\\Local\\Temp\\ipykernel_19356\\3433722766.py:9: SettingWithCopyWarning: \n",
      "A value is trying to be set on a copy of a slice from a DataFrame\n",
      "\n",
      "See the caveats in the documentation: https://pandas.pydata.org/pandas-docs/stable/user_guide/indexing.html#returning-a-view-versus-a-copy\n",
      "  yearly_science_data.drop(columns=['created_utc'], inplace=True)\n",
      "C:\\Users\\Jannik Wirtheim\\AppData\\Local\\Temp\\ipykernel_19356\\3433722766.py:9: SettingWithCopyWarning: \n",
      "A value is trying to be set on a copy of a slice from a DataFrame\n",
      "\n",
      "See the caveats in the documentation: https://pandas.pydata.org/pandas-docs/stable/user_guide/indexing.html#returning-a-view-versus-a-copy\n",
      "  yearly_science_data.drop(columns=['created_utc'], inplace=True)\n",
      "C:\\Users\\Jannik Wirtheim\\AppData\\Local\\Temp\\ipykernel_19356\\3433722766.py:9: SettingWithCopyWarning: \n",
      "A value is trying to be set on a copy of a slice from a DataFrame\n",
      "\n",
      "See the caveats in the documentation: https://pandas.pydata.org/pandas-docs/stable/user_guide/indexing.html#returning-a-view-versus-a-copy\n",
      "  yearly_science_data.drop(columns=['created_utc'], inplace=True)\n",
      "C:\\Users\\Jannik Wirtheim\\AppData\\Local\\Temp\\ipykernel_19356\\3433722766.py:9: SettingWithCopyWarning: \n",
      "A value is trying to be set on a copy of a slice from a DataFrame\n",
      "\n",
      "See the caveats in the documentation: https://pandas.pydata.org/pandas-docs/stable/user_guide/indexing.html#returning-a-view-versus-a-copy\n",
      "  yearly_science_data.drop(columns=['created_utc'], inplace=True)\n",
      "C:\\Users\\Jannik Wirtheim\\AppData\\Local\\Temp\\ipykernel_19356\\3433722766.py:9: SettingWithCopyWarning: \n",
      "A value is trying to be set on a copy of a slice from a DataFrame\n",
      "\n",
      "See the caveats in the documentation: https://pandas.pydata.org/pandas-docs/stable/user_guide/indexing.html#returning-a-view-versus-a-copy\n",
      "  yearly_science_data.drop(columns=['created_utc'], inplace=True)\n",
      "C:\\Users\\Jannik Wirtheim\\AppData\\Local\\Temp\\ipykernel_19356\\3433722766.py:9: SettingWithCopyWarning: \n",
      "A value is trying to be set on a copy of a slice from a DataFrame\n",
      "\n",
      "See the caveats in the documentation: https://pandas.pydata.org/pandas-docs/stable/user_guide/indexing.html#returning-a-view-versus-a-copy\n",
      "  yearly_science_data.drop(columns=['created_utc'], inplace=True)\n",
      "C:\\Users\\Jannik Wirtheim\\AppData\\Local\\Temp\\ipykernel_19356\\3433722766.py:9: SettingWithCopyWarning: \n",
      "A value is trying to be set on a copy of a slice from a DataFrame\n",
      "\n",
      "See the caveats in the documentation: https://pandas.pydata.org/pandas-docs/stable/user_guide/indexing.html#returning-a-view-versus-a-copy\n",
      "  yearly_science_data.drop(columns=['created_utc'], inplace=True)\n",
      "C:\\Users\\Jannik Wirtheim\\AppData\\Local\\Temp\\ipykernel_19356\\3433722766.py:9: SettingWithCopyWarning: \n",
      "A value is trying to be set on a copy of a slice from a DataFrame\n",
      "\n",
      "See the caveats in the documentation: https://pandas.pydata.org/pandas-docs/stable/user_guide/indexing.html#returning-a-view-versus-a-copy\n",
      "  yearly_science_data.drop(columns=['created_utc'], inplace=True)\n",
      "C:\\Users\\Jannik Wirtheim\\AppData\\Local\\Temp\\ipykernel_19356\\3433722766.py:9: SettingWithCopyWarning: \n",
      "A value is trying to be set on a copy of a slice from a DataFrame\n",
      "\n",
      "See the caveats in the documentation: https://pandas.pydata.org/pandas-docs/stable/user_guide/indexing.html#returning-a-view-versus-a-copy\n",
      "  yearly_science_data.drop(columns=['created_utc'], inplace=True)\n",
      "C:\\Users\\Jannik Wirtheim\\AppData\\Local\\Temp\\ipykernel_19356\\3433722766.py:9: SettingWithCopyWarning: \n",
      "A value is trying to be set on a copy of a slice from a DataFrame\n",
      "\n",
      "See the caveats in the documentation: https://pandas.pydata.org/pandas-docs/stable/user_guide/indexing.html#returning-a-view-versus-a-copy\n",
      "  yearly_science_data.drop(columns=['created_utc'], inplace=True)\n"
     ]
    }
   ],
   "source": [
    "for year in range(2010, 2023):\n",
    "    # Filter the data for the current year\n",
    "    yearly_science_data = yearly_ask_science[yearly_ask_science['created_utc'] == year]\n",
    "    \n",
    "    # Reset the index\n",
    "    yearly_science_data.reset_index(drop=True, inplace=True)\n",
    "    \n",
    "    # Drop the 'created_utc' column\n",
    "    yearly_science_data.drop(columns=['created_utc'], inplace=True)\n",
    "    \n",
    "    # Save to a CSV file with the year in the filename\n",
    "    yearly_science_data.to_csv(f'data/yearly_ask_science/ask_science_{year}.csv', index=False)"
   ]
  },
  {
   "cell_type": "code",
   "execution_count": 18,
   "metadata": {},
   "outputs": [
    {
     "name": "stderr",
     "output_type": "stream",
     "text": [
      "C:\\Users\\Jannik Wirtheim\\AppData\\Local\\Temp\\ipykernel_19356\\2991855306.py:9: SettingWithCopyWarning: \n",
      "A value is trying to be set on a copy of a slice from a DataFrame\n",
      "\n",
      "See the caveats in the documentation: https://pandas.pydata.org/pandas-docs/stable/user_guide/indexing.html#returning-a-view-versus-a-copy\n",
      "  yearly_not_science_data.drop(columns=['created_utc'], inplace=True)\n",
      "C:\\Users\\Jannik Wirtheim\\AppData\\Local\\Temp\\ipykernel_19356\\2991855306.py:9: SettingWithCopyWarning: \n",
      "A value is trying to be set on a copy of a slice from a DataFrame\n",
      "\n",
      "See the caveats in the documentation: https://pandas.pydata.org/pandas-docs/stable/user_guide/indexing.html#returning-a-view-versus-a-copy\n",
      "  yearly_not_science_data.drop(columns=['created_utc'], inplace=True)\n",
      "C:\\Users\\Jannik Wirtheim\\AppData\\Local\\Temp\\ipykernel_19356\\2991855306.py:9: SettingWithCopyWarning: \n",
      "A value is trying to be set on a copy of a slice from a DataFrame\n",
      "\n",
      "See the caveats in the documentation: https://pandas.pydata.org/pandas-docs/stable/user_guide/indexing.html#returning-a-view-versus-a-copy\n",
      "  yearly_not_science_data.drop(columns=['created_utc'], inplace=True)\n",
      "C:\\Users\\Jannik Wirtheim\\AppData\\Local\\Temp\\ipykernel_19356\\2991855306.py:9: SettingWithCopyWarning: \n",
      "A value is trying to be set on a copy of a slice from a DataFrame\n",
      "\n",
      "See the caveats in the documentation: https://pandas.pydata.org/pandas-docs/stable/user_guide/indexing.html#returning-a-view-versus-a-copy\n",
      "  yearly_not_science_data.drop(columns=['created_utc'], inplace=True)\n",
      "C:\\Users\\Jannik Wirtheim\\AppData\\Local\\Temp\\ipykernel_19356\\2991855306.py:9: SettingWithCopyWarning: \n",
      "A value is trying to be set on a copy of a slice from a DataFrame\n",
      "\n",
      "See the caveats in the documentation: https://pandas.pydata.org/pandas-docs/stable/user_guide/indexing.html#returning-a-view-versus-a-copy\n",
      "  yearly_not_science_data.drop(columns=['created_utc'], inplace=True)\n",
      "C:\\Users\\Jannik Wirtheim\\AppData\\Local\\Temp\\ipykernel_19356\\2991855306.py:9: SettingWithCopyWarning: \n",
      "A value is trying to be set on a copy of a slice from a DataFrame\n",
      "\n",
      "See the caveats in the documentation: https://pandas.pydata.org/pandas-docs/stable/user_guide/indexing.html#returning-a-view-versus-a-copy\n",
      "  yearly_not_science_data.drop(columns=['created_utc'], inplace=True)\n",
      "C:\\Users\\Jannik Wirtheim\\AppData\\Local\\Temp\\ipykernel_19356\\2991855306.py:9: SettingWithCopyWarning: \n",
      "A value is trying to be set on a copy of a slice from a DataFrame\n",
      "\n",
      "See the caveats in the documentation: https://pandas.pydata.org/pandas-docs/stable/user_guide/indexing.html#returning-a-view-versus-a-copy\n",
      "  yearly_not_science_data.drop(columns=['created_utc'], inplace=True)\n",
      "C:\\Users\\Jannik Wirtheim\\AppData\\Local\\Temp\\ipykernel_19356\\2991855306.py:9: SettingWithCopyWarning: \n",
      "A value is trying to be set on a copy of a slice from a DataFrame\n",
      "\n",
      "See the caveats in the documentation: https://pandas.pydata.org/pandas-docs/stable/user_guide/indexing.html#returning-a-view-versus-a-copy\n",
      "  yearly_not_science_data.drop(columns=['created_utc'], inplace=True)\n",
      "C:\\Users\\Jannik Wirtheim\\AppData\\Local\\Temp\\ipykernel_19356\\2991855306.py:9: SettingWithCopyWarning: \n",
      "A value is trying to be set on a copy of a slice from a DataFrame\n",
      "\n",
      "See the caveats in the documentation: https://pandas.pydata.org/pandas-docs/stable/user_guide/indexing.html#returning-a-view-versus-a-copy\n",
      "  yearly_not_science_data.drop(columns=['created_utc'], inplace=True)\n",
      "C:\\Users\\Jannik Wirtheim\\AppData\\Local\\Temp\\ipykernel_19356\\2991855306.py:9: SettingWithCopyWarning: \n",
      "A value is trying to be set on a copy of a slice from a DataFrame\n",
      "\n",
      "See the caveats in the documentation: https://pandas.pydata.org/pandas-docs/stable/user_guide/indexing.html#returning-a-view-versus-a-copy\n",
      "  yearly_not_science_data.drop(columns=['created_utc'], inplace=True)\n",
      "C:\\Users\\Jannik Wirtheim\\AppData\\Local\\Temp\\ipykernel_19356\\2991855306.py:9: SettingWithCopyWarning: \n",
      "A value is trying to be set on a copy of a slice from a DataFrame\n",
      "\n",
      "See the caveats in the documentation: https://pandas.pydata.org/pandas-docs/stable/user_guide/indexing.html#returning-a-view-versus-a-copy\n",
      "  yearly_not_science_data.drop(columns=['created_utc'], inplace=True)\n",
      "C:\\Users\\Jannik Wirtheim\\AppData\\Local\\Temp\\ipykernel_19356\\2991855306.py:9: SettingWithCopyWarning: \n",
      "A value is trying to be set on a copy of a slice from a DataFrame\n",
      "\n",
      "See the caveats in the documentation: https://pandas.pydata.org/pandas-docs/stable/user_guide/indexing.html#returning-a-view-versus-a-copy\n",
      "  yearly_not_science_data.drop(columns=['created_utc'], inplace=True)\n",
      "C:\\Users\\Jannik Wirtheim\\AppData\\Local\\Temp\\ipykernel_19356\\2991855306.py:9: SettingWithCopyWarning: \n",
      "A value is trying to be set on a copy of a slice from a DataFrame\n",
      "\n",
      "See the caveats in the documentation: https://pandas.pydata.org/pandas-docs/stable/user_guide/indexing.html#returning-a-view-versus-a-copy\n",
      "  yearly_not_science_data.drop(columns=['created_utc'], inplace=True)\n"
     ]
    }
   ],
   "source": [
    "for year in range(2010, 2023):\n",
    "    # Filter the data for the current year\n",
    "    yearly_not_science_data = yearly_not_ask_science[yearly_not_ask_science['created_utc'] == year]\n",
    "    \n",
    "    # Reset the index\n",
    "    yearly_not_science_data.reset_index(drop=True, inplace=True)\n",
    "    \n",
    "    # Drop the 'created_utc' column\n",
    "    yearly_not_science_data.drop(columns=['created_utc'], inplace=True)\n",
    "    \n",
    "    # Save to a CSV file with the year in the filename\n",
    "    yearly_not_science_data.to_csv(f'data/yearly_not_ask_science/not_ask_science_{year}.csv', index=False)"
   ]
  }
 ],
 "metadata": {
  "kernelspec": {
   "display_name": "base",
   "language": "python",
   "name": "python3"
  },
  "language_info": {
   "codemirror_mode": {
    "name": "ipython",
    "version": 3
   },
   "file_extension": ".py",
   "mimetype": "text/x-python",
   "name": "python",
   "nbconvert_exporter": "python",
   "pygments_lexer": "ipython3",
   "version": "3.11.5"
  }
 },
 "nbformat": 4,
 "nbformat_minor": 2
}
